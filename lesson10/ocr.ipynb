{
 "cells": [
  {
   "cell_type": "code",
   "execution_count": 66,
   "metadata": {},
   "outputs": [],
   "source": [
    "import sys\n",
    "from itertools import groupby\n",
    "\n",
    "import matplotlib as mpl\n",
    "import matplotlib.pyplot as plt\n",
    "import numpy as np\n",
    "import torch\n",
    "import torch.nn as nn\n",
    "import torch.nn.functional as F\n",
    "import torch.utils.data as data_utils\n",
    "import torchvision.transforms.functional as TF\n",
    "from torchvision import datasets, transforms\n",
    "from tqdm import tqdm\n",
    "import random"
   ]
  },
  {
   "cell_type": "code",
   "execution_count": 67,
   "metadata": {},
   "outputs": [],
   "source": [
    "epochs = 5\n",
    "num_classes = 11 \n",
    "blank_label = 10\n",
    "image_height = 28\n",
    "gru_hidden_size = 128\n",
    "gru_num_layers = 2\n",
    "cnn_output_height = 4\n",
    "cnn_output_width = 32\n",
    "digits_per_sequence = random.randint(5, 10)\n",
    "number_of_sequences = 10000\n",
    "emnist_dataset = datasets.EMNIST('./EMNIST', split=\"digits\", train=True, download=True)\n",
    "dataset_sequences = []\n",
    "dataset_labels = []"
   ]
  },
  {
   "cell_type": "code",
   "execution_count": 68,
   "metadata": {},
   "outputs": [],
   "source": [
    "for i in range(number_of_sequences):\n",
    "    random_indices = np.random.randint(len(emnist_dataset.data), size=(digits_per_sequence,))\n",
    "    random_digits_images = emnist_dataset.data[random_indices]\n",
    "    transformed_random_digits_images = []\n",
    "\n",
    "    for img in random_digits_images:\n",
    "        img = transforms.ToPILImage()(img)\n",
    "        img = TF.rotate(img, -90, fill=0)\n",
    "        img = TF.hflip(img)\n",
    "        img = transforms.RandomAffine(degrees=10, translate=(0.2, 0.15), scale=(0.8, 1.1))(img)\n",
    "        img = transforms.ToTensor()(img).numpy()\n",
    "        transformed_random_digits_images.append(img)\n",
    "\n",
    "    random_digits_images = np.array(transformed_random_digits_images)\n",
    "    random_digits_labels = emnist_dataset.targets[random_indices]\n",
    "    random_sequence = np.hstack(random_digits_images.reshape(digits_per_sequence, 28, 28))\n",
    "    random_labels = np.hstack(random_digits_labels.reshape(digits_per_sequence, 1))\n",
    "    dataset_sequences.append(random_sequence / 255)\n",
    "    dataset_labels.append(random_labels)\n",
    "\n",
    "dataset_data = torch.Tensor(np.array(dataset_sequences))\n",
    "dataset_labels = torch.IntTensor(np.array(dataset_labels))\n",
    "\n",
    "seq_dataset = data_utils.TensorDataset(dataset_data, dataset_labels)\n",
    "train_set, val_set = torch.utils.data.random_split(seq_dataset,\n",
    "                                                   [int(len(seq_dataset) * 0.8), int(len(seq_dataset) * 0.2)])\n",
    "\n",
    "train_loader = torch.utils.data.DataLoader(train_set, batch_size=64, shuffle=True)\n",
    "val_loader = torch.utils.data.DataLoader(val_set, batch_size=1, shuffle=True)"
   ]
  },
  {
   "cell_type": "code",
   "execution_count": 69,
   "metadata": {},
   "outputs": [],
   "source": [
    "class CRNN(nn.Module):\n",
    "\n",
    "    def __init__(self):\n",
    "        super(CRNN, self).__init__()\n",
    "        self.conv1 = nn.Conv2d(1, 32, kernel_size=(3, 3))\n",
    "        self.norm1 = nn.InstanceNorm2d(32)\n",
    "        self.conv2 = nn.Conv2d(32, 32, kernel_size=(3, 3), stride=2)\n",
    "        self.norm2 = nn.InstanceNorm2d(32)\n",
    "        self.conv3 = nn.Conv2d(32, 64, kernel_size=(3, 3))\n",
    "        self.norm3 = nn.InstanceNorm2d(64)\n",
    "        self.conv4 = nn.Conv2d(64, 64, kernel_size=(3, 3), stride=2)\n",
    "        self.norm4 = nn.InstanceNorm2d(64)\n",
    "        self.gru_input_size = cnn_output_height * 64\n",
    "        self.gru = nn.GRU(self.gru_input_size, gru_hidden_size, gru_num_layers, batch_first=True, bidirectional=True)\n",
    "        self.fc = nn.Linear(gru_hidden_size * 2, num_classes)\n",
    "\n",
    "    def forward(self, x):\n",
    "        batch_size = x.shape[0]\n",
    "        out = self.conv1(x)\n",
    "        out = self.norm1(out)\n",
    "        out = F.leaky_relu(out)\n",
    "        out = self.conv2(out)\n",
    "        out = self.norm2(out)\n",
    "        out = F.leaky_relu(out)\n",
    "        out = self.conv3(out)\n",
    "        out = self.norm3(out)\n",
    "        out = F.leaky_relu(out)\n",
    "        out = self.conv4(out)\n",
    "        out = self.norm4(out)\n",
    "        out = F.leaky_relu(out)\n",
    "        out = out.permute(0, 3, 2, 1)\n",
    "        out = out.reshape(batch_size, -1, self.gru_input_size)\n",
    "        out, _ = self.gru(out)\n",
    "        out = torch.stack([F.log_softmax(self.fc(out[i]), dim=-1) for i in range(out.shape[0])])\n",
    "        return out"
   ]
  },
  {
   "cell_type": "code",
   "execution_count": 70,
   "metadata": {},
   "outputs": [],
   "source": [
    "model = CRNN().cuda()\n",
    "criterion = nn.CTCLoss(blank=blank_label, reduction='mean', zero_infinity=True)\n",
    "optimizer = torch.optim.Adam(model.parameters(), lr=0.001)"
   ]
  },
  {
   "cell_type": "code",
   "execution_count": 71,
   "metadata": {},
   "outputs": [
    {
     "name": "stdout",
     "output_type": "stream",
     "text": [
      "100%|██████████| 125/125 [00:04<00:00, 27.65it/s]\n",
      "TRAINING. Correct:  115 / 8000 = 0.014375\n",
      "100%|██████████| 125/125 [00:04<00:00, 30.30it/s]\n",
      "TRAINING. Correct:  5304 / 8000 = 0.663\n",
      "100%|██████████| 125/125 [00:04<00:00, 30.02it/s]\n",
      "TRAINING. Correct:  6685 / 8000 = 0.835625\n",
      "100%|██████████| 125/125 [00:04<00:00, 29.49it/s]\n",
      "TRAINING. Correct:  7077 / 8000 = 0.884625\n",
      "100%|██████████| 125/125 [00:04<00:00, 30.65it/s]\n",
      "TRAINING. Correct:  7323 / 8000 = 0.915375\n"
     ]
    }
   ],
   "source": [
    "loss = []\n",
    "for _ in range(epochs):\n",
    "    train_correct = 0\n",
    "    train_total = 0\n",
    "    for x_train, y_train in tqdm(train_loader,\n",
    "                                 position=0, leave=True,\n",
    "                                 file=sys.stdout):\n",
    "        batch_size = x_train.shape[0]  # x_train.shape == torch.Size([64, 28, 140])\n",
    "        x_train = x_train.view(x_train.shape[0], 1, x_train.shape[1], x_train.shape[2])\n",
    "        optimizer.zero_grad()\n",
    "        y_pred = model(x_train.cuda())\n",
    "        y_pred = y_pred.permute(1, 0, 2)  # y_pred.shape == torch.Size([64, 32, 11])\n",
    "        input_lengths = torch.IntTensor(batch_size).fill_(cnn_output_width)\n",
    "        target_lengths = torch.IntTensor([len(t) for t in y_train])\n",
    "        loss = criterion(y_pred, y_train, input_lengths, target_lengths)\n",
    "        loss.backward()\n",
    "        optimizer.step()\n",
    "        _, max_index = torch.max(y_pred, dim=2)  # max_index.shape == torch.Size([32, 64])\n",
    "        for i in range(batch_size):\n",
    "            raw_prediction = list(max_index[:, i].detach().cpu().numpy())  # len(raw_prediction) == 32\n",
    "            prediction = torch.IntTensor([c for c, _ in groupby(raw_prediction) if c != blank_label])\n",
    "            if len(prediction) == len(y_train[i]) and torch.all(prediction.eq(y_train[i])):\n",
    "                train_correct += 1\n",
    "            train_total += 1\n",
    "    print('TRAINING. Correct: ', train_correct, '/', train_total, '=', train_correct / train_total)\n"
   ]
  },
  {
   "cell_type": "code",
   "execution_count": 81,
   "metadata": {},
   "outputs": [
    {
     "ename": "TypeError",
     "evalue": "'_SingleProcessDataLoaderIter' object is not callable",
     "output_type": "error",
     "traceback": [
      "\u001b[0;31m---------------------------------------------------------------------------\u001b[0m",
      "\u001b[0;31mTypeError\u001b[0m                                 Traceback (most recent call last)",
      "\u001b[0;32m/tmp/ipykernel_18606/580898538.py\u001b[0m in \u001b[0;36m<module>\u001b[0;34m\u001b[0m\n\u001b[1;32m      2\u001b[0m \u001b[0mtest_loader\u001b[0m \u001b[0;34m=\u001b[0m \u001b[0mtorch\u001b[0m\u001b[0;34m.\u001b[0m\u001b[0mutils\u001b[0m\u001b[0;34m.\u001b[0m\u001b[0mdata\u001b[0m\u001b[0;34m.\u001b[0m\u001b[0mDataLoader\u001b[0m\u001b[0;34m(\u001b[0m\u001b[0mval_set\u001b[0m\u001b[0;34m,\u001b[0m \u001b[0mbatch_size\u001b[0m\u001b[0;34m=\u001b[0m\u001b[0mnumber_of_test_imgs\u001b[0m\u001b[0;34m,\u001b[0m \u001b[0mshuffle\u001b[0m\u001b[0;34m=\u001b[0m\u001b[0;32mTrue\u001b[0m\u001b[0;34m)\u001b[0m\u001b[0;34m\u001b[0m\u001b[0;34m\u001b[0m\u001b[0m\n\u001b[1;32m      3\u001b[0m \u001b[0mtest_preds\u001b[0m \u001b[0;34m=\u001b[0m \u001b[0;34m[\u001b[0m\u001b[0;34m]\u001b[0m\u001b[0;34m\u001b[0m\u001b[0;34m\u001b[0m\u001b[0m\n\u001b[0;32m----> 4\u001b[0;31m \u001b[0;34m(\u001b[0m\u001b[0mx_test\u001b[0m\u001b[0;34m,\u001b[0m \u001b[0my_test\u001b[0m\u001b[0;34m)\u001b[0m \u001b[0;34m=\u001b[0m \u001b[0mnext\u001b[0m\u001b[0;34m(\u001b[0m\u001b[0miter\u001b[0m\u001b[0;34m(\u001b[0m\u001b[0mtest_loader\u001b[0m\u001b[0;34m)\u001b[0m\u001b[0;34m)\u001b[0m\u001b[0;34m\u001b[0m\u001b[0;34m\u001b[0m\u001b[0m\n\u001b[0m\u001b[1;32m      5\u001b[0m \u001b[0my_pred\u001b[0m \u001b[0;34m=\u001b[0m \u001b[0mmodel\u001b[0m\u001b[0;34m(\u001b[0m\u001b[0mx_test\u001b[0m\u001b[0;34m.\u001b[0m\u001b[0mview\u001b[0m\u001b[0;34m(\u001b[0m\u001b[0mx_test\u001b[0m\u001b[0;34m.\u001b[0m\u001b[0mshape\u001b[0m\u001b[0;34m[\u001b[0m\u001b[0;36m0\u001b[0m\u001b[0;34m]\u001b[0m\u001b[0;34m,\u001b[0m \u001b[0;36m1\u001b[0m\u001b[0;34m,\u001b[0m \u001b[0mx_test\u001b[0m\u001b[0;34m.\u001b[0m\u001b[0mshape\u001b[0m\u001b[0;34m[\u001b[0m\u001b[0;36m1\u001b[0m\u001b[0;34m]\u001b[0m\u001b[0;34m,\u001b[0m \u001b[0mx_test\u001b[0m\u001b[0;34m.\u001b[0m\u001b[0mshape\u001b[0m\u001b[0;34m[\u001b[0m\u001b[0;36m2\u001b[0m\u001b[0;34m]\u001b[0m\u001b[0;34m)\u001b[0m\u001b[0;34m.\u001b[0m\u001b[0mcuda\u001b[0m\u001b[0;34m(\u001b[0m\u001b[0;34m)\u001b[0m\u001b[0;34m)\u001b[0m\u001b[0;34m\u001b[0m\u001b[0;34m\u001b[0m\u001b[0m\n\u001b[1;32m      6\u001b[0m \u001b[0my_pred\u001b[0m \u001b[0;34m=\u001b[0m \u001b[0my_pred\u001b[0m\u001b[0;34m.\u001b[0m\u001b[0mpermute\u001b[0m\u001b[0;34m(\u001b[0m\u001b[0;36m1\u001b[0m\u001b[0;34m,\u001b[0m \u001b[0;36m0\u001b[0m\u001b[0;34m,\u001b[0m \u001b[0;36m2\u001b[0m\u001b[0;34m)\u001b[0m\u001b[0;34m\u001b[0m\u001b[0;34m\u001b[0m\u001b[0m\n",
      "\u001b[0;31mTypeError\u001b[0m: '_SingleProcessDataLoaderIter' object is not callable"
     ]
    }
   ],
   "source": [
    "number_of_test_imgs = 10\n",
    "test_loader = torch.utils.data.DataLoader(val_set, batch_size=number_of_test_imgs, shuffle=True)\n",
    "test_preds = []\n",
    "(x_test, y_test) = next(iter(test_loader))\n",
    "y_pred = model(x_test.view(x_test.shape[0], 1, x_test.shape[1], x_test.shape[2]).cuda())\n",
    "y_pred = y_pred.permute(1, 0, 2)\n",
    "_, max_index = torch.max(y_pred, dim=2)\n",
    "for i in range(x_test.shape[0]):\n",
    "    raw_prediction = list(max_index[:, i].detach().cpu().numpy())\n",
    "    prediction = torch.IntTensor([c for c, _ in groupby(raw_prediction) if c != blank_label])\n",
    "    test_preds.append(prediction)\n",
    "\n",
    "for j in range(len(x_test)):\n",
    "    mpl.rcParams[\"font.size\"] = 8\n",
    "    plt.imshow(x_test[j], cmap='gray')\n",
    "    mpl.rcParams[\"font.size\"] = 18\n",
    "    plt.gcf().text(x=0.1, y=0.1, s=\"Actual: \" + str(y_test[j].numpy()))\n",
    "    plt.gcf().text(x=0.1, y=0.2, s=\"Predicted: \" + str(test_preds[j].numpy()))\n",
    "    plt.show()"
   ]
  },
  {
   "cell_type": "code",
   "execution_count": null,
   "metadata": {},
   "outputs": [],
   "source": [
    "#Task rerun this code for length of sequence from 5 to 10 and calculate metrics (you can choose is by you own for test data) "
   ]
  },
  {
   "cell_type": "code",
   "execution_count": 85,
   "metadata": {},
   "outputs": [],
   "source": [
    "test_load = torch.utils.data.DataLoader(val_set, shuffle=True)\n",
    "\n",
    "act = []\n",
    "pred = []\n",
    "\n",
    "for x_test, y_test in test_load:\n",
    "    y_pred = model(x_test.view(x_test.shape[0], 1, x_test.shape[1], x_test.shape[2]).cuda())\n",
    "    y_pred = y_pred.permute(1, 0, 2)\n",
    "    _, max_index = torch.max(y_pred, dim=2)\n",
    "    for i in range(x_test.shape[0]):\n",
    "        raw_prediction = list(max_index[:, i].detach().cpu().numpy())\n",
    "        prediction = torch.IntTensor([c for c, _ in groupby(raw_prediction) if c != blank_label])\n",
    "        act.append(y_test[i].numpy())\n",
    "        pred.append(prediction.numpy())"
   ]
  },
  {
   "cell_type": "code",
   "execution_count": 88,
   "metadata": {},
   "outputs": [
    {
     "data": {
      "text/plain": [
       "0.025200000000000042"
      ]
     },
     "execution_count": 88,
     "metadata": {},
     "output_type": "execute_result"
    }
   ],
   "source": [
    "# Char. error metrics\n",
    "def cer(y_true, y_pred):\n",
    "    overall_cer = 0\n",
    "    for i in range(len(y_true)):\n",
    "        numOfDel = 0\n",
    "        numOfIns = 0\n",
    "        numOfSub = 0\n",
    "\n",
    "        if len(y_true[i]) > len(y_pred[i]):\n",
    "            numOfDel = len(y_true[i]) - len(y_pred[i])\n",
    "            y_pred[i] = np.append(y_pred[i], np.zeros(numOfDel))\n",
    "        elif len(y_true[i]) < len(y_pred[i]):\n",
    "            numOfIns = len(y_pred[i]) - len(y_true[i])\n",
    "            y_true[i] = np.append(y_true[i], np.zeros(numOfIns))\n",
    "\n",
    "        for j in range(len(y_true[i])):\n",
    "            if y_true[i][j] != y_pred[i][j]:\n",
    "                numOfSub += 1\n",
    "\n",
    "        cer = (numOfDel + numOfIns + numOfSub) / len(y_true[i])\n",
    "        overall_cer = overall_cer + cer\n",
    "    return overall_cer / len(y_true)\n",
    "\n",
    "cer(act, pred)"
   ]
  }
 ],
 "metadata": {
  "kernelspec": {
   "display_name": "Python 3.8.10 64-bit",
   "language": "python",
   "name": "python3"
  },
  "language_info": {
   "codemirror_mode": {
    "name": "ipython",
    "version": 3
   },
   "file_extension": ".py",
   "mimetype": "text/x-python",
   "name": "python",
   "nbconvert_exporter": "python",
   "pygments_lexer": "ipython3",
   "version": "3.8.10"
  },
  "orig_nbformat": 4,
  "vscode": {
   "interpreter": {
    "hash": "767d51c1340bd893661ea55ea3124f6de3c7a262a8b4abca0554b478b1e2ff90"
   }
  }
 },
 "nbformat": 4,
 "nbformat_minor": 2
}
