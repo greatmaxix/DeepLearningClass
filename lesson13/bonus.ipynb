{
 "cells": [
  {
   "cell_type": "code",
   "execution_count": 22,
   "metadata": {},
   "outputs": [],
   "source": [
    "import torch\n",
    "from torch import nn\n",
    "from torch import functional as F\n",
    "import pandas as pd\n",
    "import numpy as np\n",
    "from sklearn.model_selection import train_test_split\n",
    "from matplotlib import pyplot as plt\n",
    "from torch.utils.data import TensorDataset,Dataset, DataLoader\n",
    "import torch.utils.data as data_utils\n",
    "import torch\n",
    "from torch import nn\n",
    "from torch import functional as F\n",
    "import pandas as pd\n",
    "import numpy as np\n",
    "from sklearn.model_selection import train_test_split\n",
    "from matplotlib import pyplot as plt\n",
    "import tqdm"
   ]
  },
  {
   "cell_type": "code",
   "execution_count": 23,
   "metadata": {},
   "outputs": [],
   "source": [
    "df=pd.read_csv(\"heart.csv\")"
   ]
  },
  {
   "cell_type": "code",
   "execution_count": 24,
   "metadata": {},
   "outputs": [
    {
     "data": {
      "text/html": [
       "<div>\n",
       "<style scoped>\n",
       "    .dataframe tbody tr th:only-of-type {\n",
       "        vertical-align: middle;\n",
       "    }\n",
       "\n",
       "    .dataframe tbody tr th {\n",
       "        vertical-align: top;\n",
       "    }\n",
       "\n",
       "    .dataframe thead th {\n",
       "        text-align: right;\n",
       "    }\n",
       "</style>\n",
       "<table border=\"1\" class=\"dataframe\">\n",
       "  <thead>\n",
       "    <tr style=\"text-align: right;\">\n",
       "      <th></th>\n",
       "      <th>age</th>\n",
       "      <th>sex</th>\n",
       "      <th>cp</th>\n",
       "      <th>trestbps</th>\n",
       "      <th>chol</th>\n",
       "      <th>fbs</th>\n",
       "      <th>restecg</th>\n",
       "      <th>thalach</th>\n",
       "      <th>exang</th>\n",
       "      <th>oldpeak</th>\n",
       "      <th>slope</th>\n",
       "      <th>ca</th>\n",
       "      <th>thal</th>\n",
       "      <th>target</th>\n",
       "    </tr>\n",
       "  </thead>\n",
       "  <tbody>\n",
       "    <tr>\n",
       "      <th>0</th>\n",
       "      <td>52</td>\n",
       "      <td>1</td>\n",
       "      <td>0</td>\n",
       "      <td>125</td>\n",
       "      <td>212</td>\n",
       "      <td>0</td>\n",
       "      <td>1</td>\n",
       "      <td>168</td>\n",
       "      <td>0</td>\n",
       "      <td>1.0</td>\n",
       "      <td>2</td>\n",
       "      <td>2</td>\n",
       "      <td>3</td>\n",
       "      <td>0</td>\n",
       "    </tr>\n",
       "    <tr>\n",
       "      <th>1</th>\n",
       "      <td>53</td>\n",
       "      <td>1</td>\n",
       "      <td>0</td>\n",
       "      <td>140</td>\n",
       "      <td>203</td>\n",
       "      <td>1</td>\n",
       "      <td>0</td>\n",
       "      <td>155</td>\n",
       "      <td>1</td>\n",
       "      <td>3.1</td>\n",
       "      <td>0</td>\n",
       "      <td>0</td>\n",
       "      <td>3</td>\n",
       "      <td>0</td>\n",
       "    </tr>\n",
       "    <tr>\n",
       "      <th>2</th>\n",
       "      <td>70</td>\n",
       "      <td>1</td>\n",
       "      <td>0</td>\n",
       "      <td>145</td>\n",
       "      <td>174</td>\n",
       "      <td>0</td>\n",
       "      <td>1</td>\n",
       "      <td>125</td>\n",
       "      <td>1</td>\n",
       "      <td>2.6</td>\n",
       "      <td>0</td>\n",
       "      <td>0</td>\n",
       "      <td>3</td>\n",
       "      <td>0</td>\n",
       "    </tr>\n",
       "    <tr>\n",
       "      <th>3</th>\n",
       "      <td>61</td>\n",
       "      <td>1</td>\n",
       "      <td>0</td>\n",
       "      <td>148</td>\n",
       "      <td>203</td>\n",
       "      <td>0</td>\n",
       "      <td>1</td>\n",
       "      <td>161</td>\n",
       "      <td>0</td>\n",
       "      <td>0.0</td>\n",
       "      <td>2</td>\n",
       "      <td>1</td>\n",
       "      <td>3</td>\n",
       "      <td>0</td>\n",
       "    </tr>\n",
       "    <tr>\n",
       "      <th>4</th>\n",
       "      <td>62</td>\n",
       "      <td>0</td>\n",
       "      <td>0</td>\n",
       "      <td>138</td>\n",
       "      <td>294</td>\n",
       "      <td>1</td>\n",
       "      <td>1</td>\n",
       "      <td>106</td>\n",
       "      <td>0</td>\n",
       "      <td>1.9</td>\n",
       "      <td>1</td>\n",
       "      <td>3</td>\n",
       "      <td>2</td>\n",
       "      <td>0</td>\n",
       "    </tr>\n",
       "  </tbody>\n",
       "</table>\n",
       "</div>"
      ],
      "text/plain": [
       "   age  sex  cp  trestbps  chol  fbs  restecg  thalach  exang  oldpeak  slope  \\\n",
       "0   52    1   0       125   212    0        1      168      0      1.0      2   \n",
       "1   53    1   0       140   203    1        0      155      1      3.1      0   \n",
       "2   70    1   0       145   174    0        1      125      1      2.6      0   \n",
       "3   61    1   0       148   203    0        1      161      0      0.0      2   \n",
       "4   62    0   0       138   294    1        1      106      0      1.9      1   \n",
       "\n",
       "   ca  thal  target  \n",
       "0   2     3       0  \n",
       "1   0     3       0  \n",
       "2   0     3       0  \n",
       "3   1     3       0  \n",
       "4   3     2       0  "
      ]
     },
     "execution_count": 24,
     "metadata": {},
     "output_type": "execute_result"
    }
   ],
   "source": [
    "df.head()"
   ]
  },
  {
   "cell_type": "code",
   "execution_count": 25,
   "metadata": {},
   "outputs": [],
   "source": [
    "feature_columns = ['age', 'sex','cp','trestbps','chol','fbs','restecg','thalach','exang','oldpeak','slope','ca','thal']\n",
    "target_column = 'target'"
   ]
  },
  {
   "cell_type": "code",
   "execution_count": 26,
   "metadata": {},
   "outputs": [],
   "source": [
    "train, test = train_test_split(df, test_size=0.2)"
   ]
  },
  {
   "cell_type": "code",
   "execution_count": 27,
   "metadata": {},
   "outputs": [],
   "source": [
    "X = np.array(df[feature_columns])\n",
    "# Extract target\n",
    "y = np.array(df[target_column])\n",
    "\n",
    "# encode target with target_mapping\n",
    "y = np.array(df[target_column])"
   ]
  },
  {
   "cell_type": "code",
   "execution_count": 28,
   "metadata": {},
   "outputs": [],
   "source": [
    "X_mean = np.mean(X, axis = 0)\n",
    "X_std = np.std(X, axis = 0)\n",
    "X = np.array((X - X_mean)/X_std)"
   ]
  },
  {
   "cell_type": "code",
   "execution_count": 29,
   "metadata": {},
   "outputs": [],
   "source": [
    "X_train, X_test, y_train, y_test = train_test_split(X,y, test_size=0.2, random_state=15)"
   ]
  },
  {
   "cell_type": "code",
   "execution_count": 30,
   "metadata": {},
   "outputs": [],
   "source": [
    "X_train = torch.FloatTensor(X_train)\n",
    "y_train = torch.FloatTensor(y_train)\n",
    "X_test = torch.FloatTensor(X_test)\n",
    "y_test = torch.FloatTensor(y_test)"
   ]
  },
  {
   "cell_type": "code",
   "execution_count": 31,
   "metadata": {},
   "outputs": [],
   "source": [
    "batch_size = 16"
   ]
  },
  {
   "cell_type": "code",
   "execution_count": 35,
   "metadata": {},
   "outputs": [],
   "source": [
    "dataset =TensorDataset(X_train, y_train)\n",
    "train_loader = DataLoader(dataset, batch_size, shuffle = False)"
   ]
  },
  {
   "cell_type": "code",
   "execution_count": 36,
   "metadata": {},
   "outputs": [],
   "source": [
    "testset =TensorDataset(X_test, y_test)\n",
    "test_loader = DataLoader(testset, batch_size, shuffle = False)"
   ]
  },
  {
   "cell_type": "code",
   "execution_count": 37,
   "metadata": {},
   "outputs": [],
   "source": [
    "#Write your own model and correct mistakes if they are\n",
    "torch.manual_seed(42) \n",
    "np.random.seed(42)\n",
    "model = nn.Sequential(\n",
    "    nn.Linear(13, 10),\n",
    "    nn.ReLU(),\n",
    "    nn.Linear(10, 10),\n",
    "    nn.ReLU(),\n",
    "    nn.Linear(10, 8),\n",
    "    nn.ReLU(),\n",
    "    nn.Linear(8, 4),\n",
    "    nn.ReLU(),\n",
    "    nn.Linear(4, 1),\n",
    "    nn.Sigmoid()\n",
    ")\n",
    "    \n",
    "loss_fn = nn.BCELoss()\n",
    "optimizer = torch.optim.Adam(model.parameters(), lr=0.01)\n",
    "num_epoch = 100"
   ]
  },
  {
   "cell_type": "code",
   "execution_count": 38,
   "metadata": {},
   "outputs": [
    {
     "name": "stdout",
     "output_type": "stream",
     "text": [
      "0 train loss  0.5989426520581429  val loss  0.46011027693748474\n",
      "0 train loss  0.5989426520581429  val loss  0.47188007831573486\n",
      "0 train loss  0.5989426520581429  val loss  0.4143424332141876\n",
      "0 train loss  0.5989426520581429  val loss  0.3920978084206581\n",
      "0 train loss  0.5989426520581429  val loss  0.4428958594799042\n",
      "0 train loss  0.5989426520581429  val loss  0.4320424348115921\n",
      "0 train loss  0.5989426520581429  val loss  0.3927326670714787\n",
      "0 train loss  0.5989426520581429  val loss  0.367690009996295\n",
      "0 train loss  0.5989426520581429  val loss  0.37901804016696083\n",
      "0 train loss  0.5989426520581429  val loss  0.35421810746192933\n",
      "0 train loss  0.5989426520581429  val loss  0.34132625433531677\n",
      "0 train loss  0.5989426520581429  val loss  0.3543206565082073\n",
      "0 train loss  0.5989426520581429  val loss  0.3437404850354561\n",
      "20 train loss  0.10069252681345321  val loss  0.12848114967346191\n",
      "20 train loss  0.10069252681345321  val loss  0.08278512209653854\n",
      "20 train loss  0.10069252681345321  val loss  0.13919495046138763\n",
      "20 train loss  0.10069252681345321  val loss  0.18039411678910255\n",
      "20 train loss  0.10069252681345321  val loss  0.15754095315933228\n",
      "20 train loss  0.10069252681345321  val loss  0.17955836653709412\n",
      "20 train loss  0.10069252681345321  val loss  0.15715072357228824\n",
      "20 train loss  0.10069252681345321  val loss  0.1869928273372352\n",
      "20 train loss  0.10069252681345321  val loss  0.19582818572719893\n",
      "20 train loss  0.10069252681345321  val loss  0.17887874487787486\n",
      "20 train loss  0.10069252681345321  val loss  0.16507480496709998\n",
      "20 train loss  0.10069252681345321  val loss  0.16690000891685486\n",
      "20 train loss  0.10069252681345321  val loss  0.17054772147765526\n",
      "40 train loss  0.015122941698511848  val loss  0.001908555394038558\n",
      "40 train loss  0.015122941698511848  val loss  0.009537039208225906\n",
      "40 train loss  0.015122941698511848  val loss  0.05583777891782423\n",
      "40 train loss  0.015122941698511848  val loss  0.07950875436654314\n",
      "40 train loss  0.015122941698511848  val loss  0.06380343600176275\n",
      "40 train loss  0.015122941698511848  val loss  0.09148445116200794\n",
      "40 train loss  0.015122941698511848  val loss  0.07869147146785897\n",
      "40 train loss  0.015122941698511848  val loss  0.08747919424786232\n",
      "40 train loss  0.015122941698511848  val loss  0.10303699936614269\n",
      "40 train loss  0.015122941698511848  val loss  0.09405024021398276\n",
      "40 train loss  0.015122941698511848  val loss  0.08569103680466386\n",
      "40 train loss  0.015122941698511848  val loss  0.08030753146158531\n",
      "40 train loss  0.015122941698511848  val loss  0.07550802839418444\n",
      "60 train loss  0.008682733349185302  val loss  0.0014389738207682967\n",
      "60 train loss  0.008682733349185302  val loss  0.006561329297255725\n",
      "60 train loss  0.008682733349185302  val loss  0.027294209653822083\n",
      "60 train loss  0.008682733349185302  val loss  0.038334869634127244\n",
      "60 train loss  0.008682733349185302  val loss  0.030912938783876596\n",
      "60 train loss  0.008682733349185302  val loss  0.02682475937763229\n",
      "60 train loss  0.008682733349185302  val loss  0.023616658307478895\n",
      "60 train loss  0.008682733349185302  val loss  0.02944115320860874\n",
      "60 train loss  0.008682733349185302  val loss  0.02692475887791564\n",
      "60 train loss  0.008682733349185302  val loss  0.024755773961078375\n",
      "60 train loss  0.008682733349185302  val loss  0.0226032475581054\n",
      "60 train loss  0.008682733349185302  val loss  0.021365582700430725\n",
      "60 train loss  0.008682733349185302  val loss  0.020147549445167758\n",
      "80 train loss  0.0005177922289301653  val loss  0.00014482656843028963\n",
      "80 train loss  0.0005177922289301653  val loss  0.0005041332769906148\n",
      "80 train loss  0.0005177922289301653  val loss  0.0003448573127874018\n",
      "80 train loss  0.0005177922289301653  val loss  0.0003187777156199445\n",
      "80 train loss  0.0005177922289301653  val loss  0.00027627561430563217\n",
      "80 train loss  0.0005177922289301653  val loss  0.00040549426497212454\n",
      "80 train loss  0.0005177922289301653  val loss  0.00037780816585706944\n",
      "80 train loss  0.0005177922289301653  val loss  0.0003556310589374334\n",
      "80 train loss  0.0005177922289301653  val loss  0.00043141802153614763\n",
      "80 train loss  0.0005177922289301653  val loss  0.00041439799570071046\n",
      "80 train loss  0.0005177922289301653  val loss  0.00039876280888248317\n",
      "80 train loss  0.0005177922289301653  val loss  0.00046796732840448385\n",
      "80 train loss  0.0005177922289301653  val loss  0.00045615972311889683\n"
     ]
    }
   ],
   "source": [
    "train_losses = []\n",
    "test_losses = []\n",
    "for i in range(num_epoch):\n",
    "    model.train(True)\n",
    "    epoch_train_losses = []\n",
    "    \n",
    "    for X_batch, y_batch in train_loader:\n",
    "        y_pred = model(X_batch)\n",
    "        loss = loss_fn(y_pred.squeeze().squeeze(), y_batch.squeeze())\n",
    "        optimizer.zero_grad()\n",
    "        loss.backward()\n",
    "        optimizer.step()\n",
    "        epoch_train_losses.append(loss.item())              \n",
    "    train_losses.append(np.mean(epoch_train_losses))\n",
    "    model.train(False)\n",
    "    with torch.no_grad():\n",
    "        #add code for validation set\n",
    "        epoch_test_losses = []\n",
    "        for X_batch, y_batch in test_loader:\n",
    "            y_pred = model(X_batch)\n",
    "            loss = loss_fn(y_pred.squeeze().squeeze(), y_batch.squeeze())\n",
    "            epoch_test_losses.append(loss.item())\n",
    "            if i%20 == 0:\n",
    "                print(i, 'train loss ',np.mean(epoch_train_losses), ' val loss ', np.mean(epoch_test_losses))\n",
    "        test_losses.append(np.mean(epoch_test_losses))"
   ]
  },
  {
   "cell_type": "code",
   "execution_count": 39,
   "metadata": {},
   "outputs": [
    {
     "data": {
      "image/png": "[encoded data removed]",
      "text/plain": [
       "<Figure size 720x504 with 1 Axes>"
      ]
     },
     "metadata": {
      "needs_background": "light"
     },
     "output_type": "display_data"
    }
   ],
   "source": [
    "#print both train and test losses on one graph \n",
    "plt.figure(figsize=(10,7))\n",
    "plt.plot(range(len(train_losses)), train_losses, label='train')\n",
    "plt.plot(range(len(test_losses)), test_losses, label='test')\n",
    "plt.legend()\n",
    "plt.show()"
   ]
  },
  {
   "cell_type": "code",
   "execution_count": 51,
   "metadata": {},
   "outputs": [],
   "source": [
    "y_pred = model.forward(X_test)"
   ]
  },
  {
   "cell_type": "code",
   "execution_count": 52,
   "metadata": {},
   "outputs": [],
   "source": [
    "y_pred = np.round(y_pred.detach().numpy())"
   ]
  },
  {
   "cell_type": "code",
   "execution_count": 53,
   "metadata": {},
   "outputs": [
    {
     "name": "stdout",
     "output_type": "stream",
     "text": [
      "[[106   0]\n",
      " [  0  99]]\n",
      "              precision    recall  f1-score   support\n",
      "\n",
      "         0.0       1.00      1.00      1.00       106\n",
      "         1.0       1.00      1.00      1.00        99\n",
      "\n",
      "    accuracy                           1.00       205\n",
      "   macro avg       1.00      1.00      1.00       205\n",
      "weighted avg       1.00      1.00      1.00       205\n",
      "\n"
     ]
    }
   ],
   "source": [
    "#show your results \n",
    "from sklearn.metrics import classification_report, confusion_matrix\n",
    "print(confusion_matrix(y_test, y_pred))\n",
    "print(classification_report(y_test, y_pred))"
   ]
  }
 ],
 "metadata": {
  "kernelspec": {
   "display_name": "Python 3.8.10 64-bit",
   "language": "python",
   "name": "python3"
  },
  "language_info": {
   "codemirror_mode": {
    "name": "ipython",
    "version": 3
   },
   "file_extension": ".py",
   "mimetype": "text/x-python",
   "name": "python",
   "nbconvert_exporter": "python",
   "pygments_lexer": "ipython3",
   "version": "3.8.10"
  },
  "orig_nbformat": 4,
  "vscode": {
   "interpreter": {
    "hash": "767d51c1340bd893661ea55ea3124f6de3c7a262a8b4abca0554b478b1e2ff90"
   }
  }
 },
 "nbformat": 4,
 "nbformat_minor": 2
}
