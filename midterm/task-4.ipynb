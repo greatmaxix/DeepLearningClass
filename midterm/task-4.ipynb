{
  "cells": [
    {
      "cell_type": "markdown",
      "metadata": {},
      "source": [
        "Baigazy Maksat"
      ]
    },
    {
      "cell_type": "code",
      "execution_count": 31,
      "metadata": {
        "id": "6LIBUZjg159C"
      },
      "outputs": [],
      "source": [
        "import torch\n",
        "from torch import nn\n",
        "from torch import functional as F\n",
        "import pandas as pd\n",
        "import numpy as np\n",
        "from sklearn.model_selection import train_test_split\n",
        "from matplotlib import pyplot as plt\n",
        "from torch.utils.data import TensorDataset,Dataset, DataLoader\n",
        "import torch.utils.data as data_utils\n",
        "import torch\n",
        "from torch import nn\n",
        "from torch import functional as F\n",
        "import pandas as pd\n",
        "import numpy as np\n",
        "from sklearn.model_selection import train_test_split\n",
        "from matplotlib import pyplot as plt\n",
        "import tqdm"
      ]
    },
    {
      "cell_type": "code",
      "execution_count": 32,
      "metadata": {
        "id": "MDjLSO4_159H"
      },
      "outputs": [],
      "source": [
        "df = pd.read_csv('heart.csv', sep = ',')"
      ]
    },
    {
      "cell_type": "code",
      "execution_count": 33,
      "metadata": {
        "id": "IxlGM-fT159H",
        "outputId": "9a041fe7-f233-4e55-a628-2e588a6bec1b"
      },
      "outputs": [
        {
          "data": {
            "text/html": [
              "<div>\n",
              "<style scoped>\n",
              "    .dataframe tbody tr th:only-of-type {\n",
              "        vertical-align: middle;\n",
              "    }\n",
              "\n",
              "    .dataframe tbody tr th {\n",
              "        vertical-align: top;\n",
              "    }\n",
              "\n",
              "    .dataframe thead th {\n",
              "        text-align: right;\n",
              "    }\n",
              "</style>\n",
              "<table border=\"1\" class=\"dataframe\">\n",
              "  <thead>\n",
              "    <tr style=\"text-align: right;\">\n",
              "      <th></th>\n",
              "      <th>age</th>\n",
              "      <th>sex</th>\n",
              "      <th>cp</th>\n",
              "      <th>trestbps</th>\n",
              "      <th>chol</th>\n",
              "      <th>fbs</th>\n",
              "      <th>restecg</th>\n",
              "      <th>thalach</th>\n",
              "      <th>exang</th>\n",
              "      <th>oldpeak</th>\n",
              "      <th>slope</th>\n",
              "      <th>ca</th>\n",
              "      <th>thal</th>\n",
              "      <th>target</th>\n",
              "    </tr>\n",
              "  </thead>\n",
              "  <tbody>\n",
              "    <tr>\n",
              "      <th>0</th>\n",
              "      <td>63</td>\n",
              "      <td>1</td>\n",
              "      <td>3</td>\n",
              "      <td>145</td>\n",
              "      <td>233</td>\n",
              "      <td>1</td>\n",
              "      <td>0</td>\n",
              "      <td>150</td>\n",
              "      <td>0</td>\n",
              "      <td>2.3</td>\n",
              "      <td>0</td>\n",
              "      <td>0</td>\n",
              "      <td>1</td>\n",
              "      <td>1</td>\n",
              "    </tr>\n",
              "    <tr>\n",
              "      <th>1</th>\n",
              "      <td>37</td>\n",
              "      <td>1</td>\n",
              "      <td>2</td>\n",
              "      <td>130</td>\n",
              "      <td>250</td>\n",
              "      <td>0</td>\n",
              "      <td>1</td>\n",
              "      <td>187</td>\n",
              "      <td>0</td>\n",
              "      <td>3.5</td>\n",
              "      <td>0</td>\n",
              "      <td>0</td>\n",
              "      <td>2</td>\n",
              "      <td>1</td>\n",
              "    </tr>\n",
              "    <tr>\n",
              "      <th>2</th>\n",
              "      <td>41</td>\n",
              "      <td>0</td>\n",
              "      <td>1</td>\n",
              "      <td>130</td>\n",
              "      <td>204</td>\n",
              "      <td>0</td>\n",
              "      <td>0</td>\n",
              "      <td>172</td>\n",
              "      <td>0</td>\n",
              "      <td>1.4</td>\n",
              "      <td>2</td>\n",
              "      <td>0</td>\n",
              "      <td>2</td>\n",
              "      <td>1</td>\n",
              "    </tr>\n",
              "    <tr>\n",
              "      <th>3</th>\n",
              "      <td>56</td>\n",
              "      <td>1</td>\n",
              "      <td>1</td>\n",
              "      <td>120</td>\n",
              "      <td>236</td>\n",
              "      <td>0</td>\n",
              "      <td>1</td>\n",
              "      <td>178</td>\n",
              "      <td>0</td>\n",
              "      <td>0.8</td>\n",
              "      <td>2</td>\n",
              "      <td>0</td>\n",
              "      <td>2</td>\n",
              "      <td>1</td>\n",
              "    </tr>\n",
              "    <tr>\n",
              "      <th>4</th>\n",
              "      <td>57</td>\n",
              "      <td>0</td>\n",
              "      <td>0</td>\n",
              "      <td>120</td>\n",
              "      <td>354</td>\n",
              "      <td>0</td>\n",
              "      <td>1</td>\n",
              "      <td>163</td>\n",
              "      <td>1</td>\n",
              "      <td>0.6</td>\n",
              "      <td>2</td>\n",
              "      <td>0</td>\n",
              "      <td>2</td>\n",
              "      <td>1</td>\n",
              "    </tr>\n",
              "    <tr>\n",
              "      <th>...</th>\n",
              "      <td>...</td>\n",
              "      <td>...</td>\n",
              "      <td>...</td>\n",
              "      <td>...</td>\n",
              "      <td>...</td>\n",
              "      <td>...</td>\n",
              "      <td>...</td>\n",
              "      <td>...</td>\n",
              "      <td>...</td>\n",
              "      <td>...</td>\n",
              "      <td>...</td>\n",
              "      <td>...</td>\n",
              "      <td>...</td>\n",
              "      <td>...</td>\n",
              "    </tr>\n",
              "    <tr>\n",
              "      <th>298</th>\n",
              "      <td>57</td>\n",
              "      <td>0</td>\n",
              "      <td>0</td>\n",
              "      <td>140</td>\n",
              "      <td>241</td>\n",
              "      <td>0</td>\n",
              "      <td>1</td>\n",
              "      <td>123</td>\n",
              "      <td>1</td>\n",
              "      <td>0.2</td>\n",
              "      <td>1</td>\n",
              "      <td>0</td>\n",
              "      <td>3</td>\n",
              "      <td>0</td>\n",
              "    </tr>\n",
              "    <tr>\n",
              "      <th>299</th>\n",
              "      <td>45</td>\n",
              "      <td>1</td>\n",
              "      <td>3</td>\n",
              "      <td>110</td>\n",
              "      <td>264</td>\n",
              "      <td>0</td>\n",
              "      <td>1</td>\n",
              "      <td>132</td>\n",
              "      <td>0</td>\n",
              "      <td>1.2</td>\n",
              "      <td>1</td>\n",
              "      <td>0</td>\n",
              "      <td>3</td>\n",
              "      <td>0</td>\n",
              "    </tr>\n",
              "    <tr>\n",
              "      <th>300</th>\n",
              "      <td>68</td>\n",
              "      <td>1</td>\n",
              "      <td>0</td>\n",
              "      <td>144</td>\n",
              "      <td>193</td>\n",
              "      <td>1</td>\n",
              "      <td>1</td>\n",
              "      <td>141</td>\n",
              "      <td>0</td>\n",
              "      <td>3.4</td>\n",
              "      <td>1</td>\n",
              "      <td>2</td>\n",
              "      <td>3</td>\n",
              "      <td>0</td>\n",
              "    </tr>\n",
              "    <tr>\n",
              "      <th>301</th>\n",
              "      <td>57</td>\n",
              "      <td>1</td>\n",
              "      <td>0</td>\n",
              "      <td>130</td>\n",
              "      <td>131</td>\n",
              "      <td>0</td>\n",
              "      <td>1</td>\n",
              "      <td>115</td>\n",
              "      <td>1</td>\n",
              "      <td>1.2</td>\n",
              "      <td>1</td>\n",
              "      <td>1</td>\n",
              "      <td>3</td>\n",
              "      <td>0</td>\n",
              "    </tr>\n",
              "    <tr>\n",
              "      <th>302</th>\n",
              "      <td>57</td>\n",
              "      <td>0</td>\n",
              "      <td>1</td>\n",
              "      <td>130</td>\n",
              "      <td>236</td>\n",
              "      <td>0</td>\n",
              "      <td>0</td>\n",
              "      <td>174</td>\n",
              "      <td>0</td>\n",
              "      <td>0.0</td>\n",
              "      <td>1</td>\n",
              "      <td>1</td>\n",
              "      <td>2</td>\n",
              "      <td>0</td>\n",
              "    </tr>\n",
              "  </tbody>\n",
              "</table>\n",
              "<p>303 rows × 14 columns</p>\n",
              "</div>"
            ],
            "text/plain": [
              "     age  sex  cp  trestbps  chol  fbs  restecg  thalach  exang  oldpeak  \\\n",
              "0     63    1   3       145   233    1        0      150      0      2.3   \n",
              "1     37    1   2       130   250    0        1      187      0      3.5   \n",
              "2     41    0   1       130   204    0        0      172      0      1.4   \n",
              "3     56    1   1       120   236    0        1      178      0      0.8   \n",
              "4     57    0   0       120   354    0        1      163      1      0.6   \n",
              "..   ...  ...  ..       ...   ...  ...      ...      ...    ...      ...   \n",
              "298   57    0   0       140   241    0        1      123      1      0.2   \n",
              "299   45    1   3       110   264    0        1      132      0      1.2   \n",
              "300   68    1   0       144   193    1        1      141      0      3.4   \n",
              "301   57    1   0       130   131    0        1      115      1      1.2   \n",
              "302   57    0   1       130   236    0        0      174      0      0.0   \n",
              "\n",
              "     slope  ca  thal  target  \n",
              "0        0   0     1       1  \n",
              "1        0   0     2       1  \n",
              "2        2   0     2       1  \n",
              "3        2   0     2       1  \n",
              "4        2   0     2       1  \n",
              "..     ...  ..   ...     ...  \n",
              "298      1   0     3       0  \n",
              "299      1   0     3       0  \n",
              "300      1   2     3       0  \n",
              "301      1   1     3       0  \n",
              "302      1   1     2       0  \n",
              "\n",
              "[303 rows x 14 columns]"
            ]
          },
          "execution_count": 33,
          "metadata": {},
          "output_type": "execute_result"
        }
      ],
      "source": [
        "df"
      ]
    },
    {
      "cell_type": "code",
      "execution_count": 34,
      "metadata": {
        "id": "l7Xixn-z159I"
      },
      "outputs": [],
      "source": [
        "feature_columns = ['age', 'sex','cp','trestbps','chol','fbs','restecg','thalach','exang','oldpeak','slope','ca','thal']\n",
        "target_column = 'target'"
      ]
    },
    {
      "cell_type": "code",
      "execution_count": 35,
      "metadata": {
        "id": "tB1I8r_L159J"
      },
      "outputs": [],
      "source": [
        "train, test = train_test_split(df, test_size=0.2)"
      ]
    },
    {
      "cell_type": "code",
      "execution_count": 36,
      "metadata": {
        "id": "UJvPgPAk159K"
      },
      "outputs": [],
      "source": [
        "X = np.array(df[feature_columns])\n",
        "# Extract target\n",
        "y = np.array(df[target_column])\n",
        "\n",
        "# encode target with target_mapping\n",
        "y = np.array(df[target_column])"
      ]
    },
    {
      "cell_type": "code",
      "execution_count": 37,
      "metadata": {
        "id": "Wk07hNCz159K"
      },
      "outputs": [],
      "source": [
        "X_mean = np.mean(X, axis = 0)\n",
        "X_std = np.std(X, axis = 0)\n",
        "X = np.array((X - X_mean)/X_std)"
      ]
    },
    {
      "cell_type": "code",
      "execution_count": 38,
      "metadata": {
        "id": "P7VeaW7F159L"
      },
      "outputs": [],
      "source": [
        "X_train, X_test, y_train, y_test = train_test_split(X,y, test_size=0.2, random_state=15)"
      ]
    },
    {
      "cell_type": "code",
      "execution_count": 39,
      "metadata": {
        "id": "j5JSAkAA159L"
      },
      "outputs": [],
      "source": [
        "X_train = torch.FloatTensor(X_train)\n",
        "y_train = torch.FloatTensor(y_train)\n",
        "X_test = torch.FloatTensor(X_test)\n",
        "y_test = torch.FloatTensor(y_test)"
      ]
    },
    {
      "cell_type": "code",
      "execution_count": 40,
      "metadata": {
        "id": "gMhb61-E159L"
      },
      "outputs": [],
      "source": [
        "batch_size = 15"
      ]
    },
    {
      "cell_type": "code",
      "execution_count": 41,
      "metadata": {
        "id": "0YoD8JPj159M"
      },
      "outputs": [],
      "source": [
        "dataset =TensorDataset(X_train, y_train)\n",
        "train_loader = DataLoader(dataset, batch_size, shuffle = False)"
      ]
    },
    {
      "cell_type": "code",
      "execution_count": 42,
      "metadata": {
        "id": "yY4PSQSD159M"
      },
      "outputs": [],
      "source": [
        "testset =TensorDataset(X_test, y_test)\n",
        "test_loader = DataLoader(testset, batch_size, shuffle = False)"
      ]
    },
    {
      "cell_type": "code",
      "execution_count": 43,
      "metadata": {
        "id": "NKy5GwvQ159N",
        "outputId": "1a91f786-c7be-42f3-b586-e760d3b5f39e"
      },
      "outputs": [
        {
          "name": "stdout",
          "output_type": "stream",
          "text": [
            "tensor([[ 0.5110,  0.6810,  1.9731,  1.6206,  0.5167, -0.4176, -1.0058, -1.0778,\n",
            "         -0.6966, -0.8969,  0.9764, -0.7144, -0.5129],\n",
            "        [-0.1507,  0.6810,  1.0026, -0.0927, -0.0051,  2.3944, -1.0058,  1.0212,\n",
            "         -0.6966, -0.8969,  0.9764,  2.2241, -0.5129],\n",
            "        [-1.4742,  0.6810, -0.9385, -1.2350, -1.4352, -0.4176, -1.0058,  0.3653,\n",
            "         -0.6966, -0.8969,  0.9764, -0.7144,  1.1230],\n",
            "        [ 0.6213,  0.6810, -0.9385, -0.0927,  0.1302, -0.4176,  0.8990, -0.2469,\n",
            "          1.4355,  0.3109,  0.9764,  0.2651,  1.1230],\n",
            "        [ 0.5110,  0.6810, -0.9385,  0.1928, -0.2370, -0.4176,  0.8990,  0.4965,\n",
            "         -0.6966, -0.4655, -0.6491, -0.7144,  1.1230],\n",
            "        [-1.8050,  0.6810,  1.9731, -0.6639, -0.2950, -0.4176,  0.8990,  1.4148,\n",
            "          1.4355,  2.3814, -0.6491, -0.7144,  1.1230],\n",
            "        [-1.4742,  0.6810,  1.0026, -1.1208,  0.0722, -0.4176,  0.8990,  1.2836,\n",
            "         -0.6966, -0.8969,  0.9764, -0.7144, -0.5129],\n",
            "        [-1.5844,  0.6810,  1.9731,  0.4784, -0.9134, -0.4176,  0.8990,  1.2399,\n",
            "          1.4355,  0.3109,  0.9764, -0.7144,  1.1230],\n",
            "        [ 0.8419, -1.4684, -0.9385,  1.6206, -1.5898, -0.4176, -1.0058, -0.2032,\n",
            "         -0.6966,  4.4519, -2.2746,  2.2241,  1.1230],\n",
            "        [ 0.4008,  0.6810,  1.0026, -1.5206, -0.1211, -0.4176, -1.0058,  0.1904,\n",
            "          1.4355, -0.3792, -0.6491, -0.7144,  1.1230],\n",
            "        [-0.2610, -1.4684,  1.0026,  0.2499, -0.9714, -0.4176, -1.0058,  0.8463,\n",
            "         -0.6966, -0.8106, -0.6491, -0.7144, -0.5129],\n",
            "        [-1.2536,  0.6810,  1.0026, -0.0927,  1.3284, -0.4176,  0.8990,  0.5402,\n",
            "         -0.6966,  0.7423,  0.9764,  0.2651, -0.5129],\n",
            "        [-2.2462,  0.6810,  1.9731, -0.7781, -1.2419, -0.4176, -1.0058,  1.0650,\n",
            "         -0.6966, -0.8969,  0.9764, -0.7144, -0.5129],\n",
            "        [ 0.8419, -1.4684, -0.9385,  0.4784,  0.4201, -0.4176, -1.0058,  0.4527,\n",
            "         -0.6966,  2.2088, -2.2746,  1.2446, -0.5129],\n",
            "        [ 0.6213,  0.6810,  1.0026,  0.4784, -1.1840, -0.4176, -1.0058,  0.2341,\n",
            "         -0.6966,  1.6912, -0.6491, -0.7144, -0.5129]])\n",
            "tensor([0., 1., 0., 0., 1., 0., 1., 1., 0., 1., 1., 1., 1., 0., 0.])\n",
            "------------------\n"
          ]
        }
      ],
      "source": [
        "for x,y in train_loader:\n",
        "    # Print the 'text' data of the batch\n",
        "    print(x)\n",
        "    print(y)\n",
        "    print('------------------')\n",
        "    break"
      ]
    },
    {
      "cell_type": "code",
      "execution_count": 44,
      "metadata": {
        "id": "NUicBb7e159O"
      },
      "outputs": [],
      "source": [
        "#Write your own model and correct mistakes if they are\n",
        "torch.manual_seed(42) \n",
        "np.random.seed(42)\n",
        "model = nn.Sequential(\n",
        "    nn.Linear(13, 10),\n",
        "    nn.ReLU(),\n",
        "    nn.Linear(10, 10),\n",
        "    nn.ReLU(),\n",
        "    nn.Linear(10, 1),\n",
        "    nn.Sigmoid()\n",
        ")\n",
        "    \n",
        "loss_fn = nn.MSELoss()\n",
        "optimizer = torch.optim.Adam(model.parameters(), lr=0.01)\n",
        "num_epoch = 100"
      ]
    },
    {
      "cell_type": "code",
      "execution_count": 45,
      "metadata": {
        "id": "-VCQ0Z1y159O",
        "outputId": "28be908a-3002-4346-d5c2-55ea72dc4f86"
      },
      "outputs": [
        {
          "name": "stdout",
          "output_type": "stream",
          "text": [
            "0 train loss  0.23127918909577763  val loss  0.1849053055047989\n",
            "0 train loss  0.23127918909577763  val loss  0.1906391605734825\n",
            "0 train loss  0.23127918909577763  val loss  0.18395004669825235\n",
            "0 train loss  0.23127918909577763  val loss  0.18018880486488342\n",
            "0 train loss  0.23127918909577763  val loss  0.1604348286986351\n",
            "20 train loss  0.049882894062808616  val loss  0.22478286921977997\n",
            "20 train loss  0.049882894062808616  val loss  0.20079053193330765\n",
            "20 train loss  0.049882894062808616  val loss  0.199470654129982\n",
            "20 train loss  0.049882894062808616  val loss  0.16291546542197466\n",
            "20 train loss  0.049882894062808616  val loss  0.13033237233757972\n",
            "40 train loss  0.04007136416210996  val loss  0.21014754474163055\n",
            "40 train loss  0.04007136416210996  val loss  0.20300383120775223\n",
            "40 train loss  0.04007136416210996  val loss  0.20180121064186096\n",
            "40 train loss  0.04007136416210996  val loss  0.18137476406991482\n",
            "40 train loss  0.04007136416210996  val loss  0.14509981125593185\n",
            "60 train loss  0.03936393747325268  val loss  0.20299284160137177\n",
            "60 train loss  0.03936393747325268  val loss  0.18888340890407562\n",
            "60 train loss  0.03936393747325268  val loss  0.19248831272125244\n",
            "60 train loss  0.03936393747325268  val loss  0.17435133829712868\n",
            "60 train loss  0.03936393747325268  val loss  0.13948107063770293\n",
            "80 train loss  0.035405050770687556  val loss  0.20123068988323212\n",
            "80 train loss  0.035405050770687556  val loss  0.19967354834079742\n",
            "80 train loss  0.035405050770687556  val loss  0.19971462587515512\n",
            "80 train loss  0.035405050770687556  val loss  0.1847262755036354\n",
            "80 train loss  0.035405050770687556  val loss  0.14778102040290833\n"
          ]
        }
      ],
      "source": [
        "train_losses = []\n",
        "test_losses = []\n",
        "for i in range(num_epoch):\n",
        "    model.train(True)\n",
        "    epoch_train_losses = []\n",
        "    \n",
        "    for X_batch, y_batch in train_loader:\n",
        "        y_pred = model(X_batch)\n",
        "        loss = loss_fn(y_pred.squeeze().squeeze(), y_batch.squeeze())\n",
        "        optimizer.zero_grad()\n",
        "        loss.backward()\n",
        "        optimizer.step()\n",
        "        epoch_train_losses.append(loss.item())              \n",
        "    train_losses.append(np.mean(epoch_train_losses))\n",
        "    model.train(False)\n",
        "    with torch.no_grad():\n",
        "        #add code for validation set\n",
        "        epoch_test_losses = []\n",
        "        for X_batch, y_batch in test_loader:\n",
        "            y_pred = model(X_batch)\n",
        "            loss = loss_fn(y_pred.squeeze().squeeze(), y_batch.squeeze())\n",
        "            epoch_test_losses.append(loss.item())\n",
        "            if i%20 == 0:\n",
        "                print(i, 'train loss ',np.mean(epoch_train_losses), ' val loss ', np.mean(epoch_test_losses))\n",
        "        test_losses.append(np.mean(epoch_test_losses))"
      ]
    },
    {
      "cell_type": "code",
      "execution_count": 46,
      "metadata": {
        "id": "BwkrZGnd159P"
      },
      "outputs": [
        {
          "data": {
            "image/png": "[encoded data removed]",
            "text/plain": [
              "<Figure size 720x504 with 1 Axes>"
            ]
          },
          "metadata": {
            "needs_background": "light"
          },
          "output_type": "display_data"
        }
      ],
      "source": [
        "#print both train and test losses on one graph \n",
        "plt.figure(figsize=(10,7))\n",
        "plt.plot(range(len(train_losses)), train_losses, label='train')\n",
        "plt.plot(range(len(test_losses)), test_losses, label='test')\n",
        "plt.legend()\n",
        "plt.show()"
      ]
    },
    {
      "cell_type": "code",
      "execution_count": 47,
      "metadata": {
        "id": "yZp3W4Qy159Q"
      },
      "outputs": [],
      "source": [
        "y_pred = model.forward(X_test)"
      ]
    },
    {
      "cell_type": "code",
      "execution_count": 48,
      "metadata": {
        "id": "ctKlmlw5159Q"
      },
      "outputs": [],
      "source": [
        "y_pred = np.round(y_pred.detach().numpy())"
      ]
    },
    {
      "cell_type": "code",
      "execution_count": 49,
      "metadata": {
        "id": "W3W6ciUK159Q"
      },
      "outputs": [
        {
          "name": "stdout",
          "output_type": "stream",
          "text": [
            "[[25  3]\n",
            " [ 9 24]]\n",
            "              precision    recall  f1-score   support\n",
            "\n",
            "         0.0       0.74      0.89      0.81        28\n",
            "         1.0       0.89      0.73      0.80        33\n",
            "\n",
            "    accuracy                           0.80        61\n",
            "   macro avg       0.81      0.81      0.80        61\n",
            "weighted avg       0.82      0.80      0.80        61\n",
            "\n"
          ]
        }
      ],
      "source": [
        "#show your results \n",
        "from sklearn.metrics import classification_report, confusion_matrix\n",
        "print(confusion_matrix(y_test, y_pred))\n",
        "print(classification_report(y_test, y_pred))"
      ]
    },
    {
      "cell_type": "markdown",
      "metadata": {
        "id": "4p_SpNsl3dTn"
      },
      "source": [
        "Theoretical part: \n",
        "<br>1) Describe several metrics applied for image segmentation task\n",
        "\n",
        "- Dice coeff. is 2 * the Area of Overlap divided by the total number of pixels in both images. \n",
        "- IoU is the area of overlap between the predicted\n",
        "segmentation and the ground truth divided by\n",
        "the area of union between the predicted\n",
        "segmentation and the ground truth\n",
        "\n",
        "<br>2) Describe difference between semantic and instance segmentation\n",
        "- Semantic segmentation treats multiple objects within a single category as one entity.\n",
        "- Instance segmentation identifies individual objects within these categories.  "
      ]
    }
  ],
  "metadata": {
    "colab": {
      "collapsed_sections": [],
      "provenance": []
    },
    "kernelspec": {
      "display_name": "Python 3.8.10 64-bit",
      "language": "python",
      "name": "python3"
    },
    "language_info": {
      "codemirror_mode": {
        "name": "ipython",
        "version": 3
      },
      "file_extension": ".py",
      "mimetype": "text/x-python",
      "name": "python",
      "nbconvert_exporter": "python",
      "pygments_lexer": "ipython3",
      "version": "3.8.10"
    },
    "vscode": {
      "interpreter": {
        "hash": "767d51c1340bd893661ea55ea3124f6de3c7a262a8b4abca0554b478b1e2ff90"
      }
    }
  },
  "nbformat": 4,
  "nbformat_minor": 0
}
