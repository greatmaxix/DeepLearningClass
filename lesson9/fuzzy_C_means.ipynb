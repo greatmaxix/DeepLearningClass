{
  "cells": [
    {
      "cell_type": "code",
      "execution_count": 1,
      "metadata": {
        "colab": {
          "base_uri": "https://localhost:8080/"
        },
        "id": "x71dETB_mGfv",
        "outputId": "b3215e57-2fa9-4570-e230-cc5d3eee3bdf"
      },
      "outputs": [
        {
          "name": "stdout",
          "output_type": "stream",
          "text": [
            "Collecting fuzzy-c-means\n",
            "  Downloading fuzzy_c_means-1.6.3-py3-none-any.whl (9.1 kB)\n",
            "Collecting pydantic<2.0.0,>=1.8.2\n",
            "  Downloading pydantic-1.10.2-cp38-cp38-manylinux_2_17_x86_64.manylinux2014_x86_64.whl (13.6 MB)\n",
            "\u001b[K     |████████████████████████████████| 13.6 MB 7.4 MB/s eta 0:00:01\n",
            "\u001b[?25hRequirement already satisfied: numpy<2.0.0,>=1.21.1 in /usr/local/lib/python3.8/dist-packages (from fuzzy-c-means) (1.21.2)\n",
            "Collecting typer<0.4.0,>=0.3.2\n",
            "  Downloading typer-0.3.2-py3-none-any.whl (21 kB)\n",
            "Requirement already satisfied: tabulate<0.9.0,>=0.8.9 in /home/maksat/.local/lib/python3.8/site-packages (from fuzzy-c-means) (0.8.9)\n",
            "Requirement already satisfied: typing-extensions>=4.1.0 in /home/maksat/.local/lib/python3.8/site-packages (from pydantic<2.0.0,>=1.8.2->fuzzy-c-means) (4.1.1)\n",
            "Collecting click<7.2.0,>=7.1.1\n",
            "  Downloading click-7.1.2-py2.py3-none-any.whl (82 kB)\n",
            "\u001b[K     |████████████████████████████████| 82 kB 1.1 MB/s eta 0:00:01\n",
            "\u001b[?25h\u001b[31mERROR: flask 2.1.2 has requirement click>=8.0, but you'll have click 7.1.2 which is incompatible.\u001b[0m\n",
            "Installing collected packages: pydantic, click, typer, fuzzy-c-means\n",
            "  Attempting uninstall: click\n",
            "    Found existing installation: click 8.1.3\n",
            "    Uninstalling click-8.1.3:\n",
            "      Successfully uninstalled click-8.1.3\n",
            "Successfully installed click-7.1.2 fuzzy-c-means-1.6.3 pydantic-1.10.2 typer-0.3.2\n"
          ]
        }
      ],
      "source": [
        "!pip install fuzzy-c-means"
      ]
    },
    {
      "cell_type": "code",
      "execution_count": 2,
      "metadata": {
        "id": "Imh9ocIxmGf1"
      },
      "outputs": [],
      "source": [
        "%matplotlib inline\n",
        "import numpy as np\n",
        "from fcmeans import FCM\n",
        "from matplotlib import pyplot as plt"
      ]
    },
    {
      "cell_type": "code",
      "execution_count": 3,
      "metadata": {
        "id": "bGd9mLrkmGf2"
      },
      "outputs": [],
      "source": [
        "import numpy as np"
      ]
    },
    {
      "cell_type": "code",
      "execution_count": 5,
      "metadata": {
        "id": "yjbTkpMcmGf3"
      },
      "outputs": [],
      "source": [
        "n_samples = 10\n",
        "\n",
        "X = np.concatenate((\n",
        "    np.random.normal((-2, -2), size=(n_samples, 2)),\n",
        "    np.random.normal((2, 2), size=(n_samples, 2))\n",
        "))"
      ]
    },
    {
      "cell_type": "code",
      "execution_count": 6,
      "metadata": {
        "colab": {
          "base_uri": "https://localhost:8080/"
        },
        "id": "83I8onihmGf4",
        "outputId": "3c0d8913-cfb1-4549-f9b9-01920f0b87a4"
      },
      "outputs": [
        {
          "data": {
            "text/plain": [
              "array([[-1.56228274e+00, -2.20464638e+00],\n",
              "       [-3.51742524e+00, -3.04237670e+00],\n",
              "       [-1.63417026e+00, -3.58139640e+00],\n",
              "       [-3.98672322e+00, -1.32082154e+00],\n",
              "       [-2.19282704e+00, -2.15491577e+00],\n",
              "       [-8.87435360e-01, -4.70994971e+00],\n",
              "       [-1.08327992e+00, -1.79280110e+00],\n",
              "       [-2.28140081e+00, -8.42953953e-01],\n",
              "       [-3.81830419e+00, -1.65431210e+00],\n",
              "       [-1.50432236e+00, -4.93589762e-01],\n",
              "       [-6.68721899e-01, -3.80070128e+00],\n",
              "       [-7.71707944e-01, -2.78814995e+00],\n",
              "       [-4.47207044e+00, -1.25442620e+00],\n",
              "       [-2.23035954e+00, -1.74521096e+00],\n",
              "       [-9.61954477e-01, -1.14620874e+00],\n",
              "       [-2.32740731e-01, -2.61554796e+00],\n",
              "       [-2.46376694e+00, -4.33312376e+00],\n",
              "       [-2.98976732e+00, -9.77056107e-01],\n",
              "       [ 1.32391846e-01, -1.88821619e+00],\n",
              "       [-3.70653568e+00, -1.47810770e+00],\n",
              "       [-1.96458159e+00, -1.69040413e+00],\n",
              "       [-3.16133221e-01, -4.07823063e+00],\n",
              "       [-1.28794226e+00, -3.01593620e+00],\n",
              "       [-1.45640331e+00, -2.70572258e+00],\n",
              "       [-1.43571504e+00, -2.70632349e+00],\n",
              "       [ 1.46275404e-01, -2.45467274e+00],\n",
              "       [-1.20292805e+00, -2.05305245e+00],\n",
              "       [-2.35377909e+00, -1.29883279e+00],\n",
              "       [-1.81497686e+00, -3.86812409e+00],\n",
              "       [-3.26331392e+00, -1.68451656e+00],\n",
              "       [-3.13315325e+00, -3.56200248e+00],\n",
              "       [-2.79754317e+00, -3.00930097e+00],\n",
              "       [-3.11299040e+00, -1.59516146e+00],\n",
              "       [-1.19886257e+00, -1.42268395e+00],\n",
              "       [-2.55592476e-01, -2.22291099e+00],\n",
              "       [-1.76638903e+00, -1.80643251e+00],\n",
              "       [-1.14589929e+00, -3.84398358e+00],\n",
              "       [-1.76333472e+00, -2.31948797e+00],\n",
              "       [-1.55203064e+00, -2.34837306e+00],\n",
              "       [-1.57106084e+00, -1.88231292e+00],\n",
              "       [-1.62401696e+00, -2.40517441e+00],\n",
              "       [-1.60879642e+00, -1.42488942e+00],\n",
              "       [-2.95951722e+00, -1.24996290e+00],\n",
              "       [-2.65823367e+00, -9.47425365e-01],\n",
              "       [-3.27643139e+00, -3.12843333e+00],\n",
              "       [-1.58781130e-01, -3.45338656e+00],\n",
              "       [-1.70079477e+00, -1.65101052e+00],\n",
              "       [-2.83995170e+00, -1.47246581e+00],\n",
              "       [-2.33071608e+00, -2.51018762e+00],\n",
              "       [-1.46348117e+00,  3.98525275e-01],\n",
              "       [-3.12503073e+00, -2.93272216e+00],\n",
              "       [-1.57089628e+00, -5.81970208e+00],\n",
              "       [-1.31310156e+00, -2.92918909e+00],\n",
              "       [-1.69492488e+00, -1.47624226e+00],\n",
              "       [-1.54761269e+00, -3.95369902e+00],\n",
              "       [-1.09259156e+00, -6.66252984e-01],\n",
              "       [-1.09457371e+00, -1.82466745e+00],\n",
              "       [-1.90810625e+00, -4.47394785e+00],\n",
              "       [-3.35803831e+00, -1.66611607e+00],\n",
              "       [-1.82220640e+00, -6.18300887e-01],\n",
              "       [-1.88752511e+00, -2.76034236e+00],\n",
              "       [-1.86298155e+00, -1.22577494e+00],\n",
              "       [-2.71322379e+00, -1.80722665e+00],\n",
              "       [-1.61755523e+00, -1.11274627e+00],\n",
              "       [-2.17451411e+00, -1.66686002e+00],\n",
              "       [-3.61724681e+00, -1.77843109e+00],\n",
              "       [-1.42090210e-01, -1.06555370e+00],\n",
              "       [-2.12757824e+00, -6.68336053e-01],\n",
              "       [-3.68650194e+00, -1.79230754e+00],\n",
              "       [-1.77422446e+00, -1.35038964e+00],\n",
              "       [-1.69197649e+00,  4.16962204e-01],\n",
              "       [-1.75641340e+00, -6.64853211e-01],\n",
              "       [-1.55918353e+00, -7.15530690e-01],\n",
              "       [-2.12043587e-01, -1.25261030e+00],\n",
              "       [-2.02906357e+00, -3.92146654e-01],\n",
              "       [-2.04566477e+00, -1.33207407e+00],\n",
              "       [-4.81869355e+00, -2.26089457e+00],\n",
              "       [-2.80795348e+00, -1.12647761e+00],\n",
              "       [-3.02065641e+00, -2.26595008e+00],\n",
              "       [-1.45915792e+00, -4.86840270e-02],\n",
              "       [-2.71484057e+00, -2.29494562e+00],\n",
              "       [-1.37666479e+00, -1.07323133e+00],\n",
              "       [-1.65001661e+00, -1.51285941e+00],\n",
              "       [-1.04510388e+00, -2.83034316e+00],\n",
              "       [-2.54110874e+00, -1.13446062e+00],\n",
              "       [-1.24184134e+00, -3.94445558e+00],\n",
              "       [-9.03511153e-01, -3.70938079e+00],\n",
              "       [-2.21994675e+00, -2.78979851e+00],\n",
              "       [-2.26105455e+00, -3.42140523e+00],\n",
              "       [-4.41697539e+00, -9.41887270e-01],\n",
              "       [ 2.62538854e-01, -3.39547396e-01],\n",
              "       [-3.80103074e+00, -2.23338095e+00],\n",
              "       [-2.20450792e+00, -2.26758121e+00],\n",
              "       [-1.50908085e+00, -1.97854884e+00],\n",
              "       [-2.61173495e+00, -3.38537659e+00],\n",
              "       [-1.89753307e+00, -1.43178107e+00],\n",
              "       [-3.25019863e+00, -3.25663918e+00],\n",
              "       [-2.86695083e+00, -1.45335972e+00],\n",
              "       [-1.96805029e-01, -1.91093242e+00],\n",
              "       [-7.74669035e-01, -2.34137890e+00],\n",
              "       [ 3.61735363e+00,  1.77683035e+00],\n",
              "       [ 3.01170129e+00,  1.25072040e+00],\n",
              "       [ 6.89414240e-01,  1.53572392e+00],\n",
              "       [ 1.62265298e+00,  3.55442908e+00],\n",
              "       [ 7.49171143e-01,  1.85655244e+00],\n",
              "       [ 1.05899323e+00,  1.60089269e+00],\n",
              "       [ 2.67911006e+00,  1.69441297e+00],\n",
              "       [ 1.56575508e+00,  2.66243756e+00],\n",
              "       [ 2.25797629e+00,  7.74104776e-01],\n",
              "       [ 2.57707146e+00,  3.40116237e+00],\n",
              "       [ 2.88190099e+00,  2.70677871e+00],\n",
              "       [ 1.85678809e+00,  1.55602093e+00],\n",
              "       [ 2.58873612e+00,  1.42504951e+00],\n",
              "       [ 6.30744118e-02,  1.14704540e+00],\n",
              "       [ 2.27487455e+00,  1.51316947e+00],\n",
              "       [ 2.54958788e+00,  1.33584640e+00],\n",
              "       [ 3.67843515e+00,  3.45332000e+00],\n",
              "       [ 2.15650929e+00,  1.49513187e+00],\n",
              "       [ 2.34178578e-01,  1.09796162e+00],\n",
              "       [ 1.64285489e+00, -1.25907575e+00],\n",
              "       [ 1.26563143e+00,  2.02675875e+00],\n",
              "       [-2.36999109e-01,  3.53860200e+00],\n",
              "       [ 2.99120235e+00,  2.73938563e+00],\n",
              "       [ 3.48328361e+00,  1.96637934e+00],\n",
              "       [ 2.80019892e+00,  2.20936088e+00],\n",
              "       [ 2.10872261e+00,  2.14794364e+00],\n",
              "       [ 1.29983666e+00,  1.80281871e+00],\n",
              "       [ 8.94698937e-01,  2.95447600e-01],\n",
              "       [ 2.59976098e+00,  1.98089293e+00],\n",
              "       [ 2.03959783e+00,  6.77902076e-01],\n",
              "       [ 6.51703113e-01,  3.67045164e+00],\n",
              "       [ 2.43168136e+00,  3.26847336e+00],\n",
              "       [ 1.30939430e+00,  2.83859184e+00],\n",
              "       [ 1.10847707e+00,  9.24714539e-01],\n",
              "       [ 1.16605330e-01,  4.01171233e+00],\n",
              "       [-7.75268174e-02,  1.71912449e+00],\n",
              "       [ 3.79811664e+00,  2.05728771e+00],\n",
              "       [ 1.78044185e+00,  5.97229809e-01],\n",
              "       [ 6.43657952e-01,  1.74612644e+00],\n",
              "       [ 1.23652764e+00,  1.32560752e+00],\n",
              "       [ 7.50773880e-01,  1.16231329e-03],\n",
              "       [ 1.97093569e+00,  1.68703221e+00],\n",
              "       [ 1.83209104e+00,  2.72540288e+00],\n",
              "       [ 7.45664210e-01,  8.35903089e-01],\n",
              "       [ 4.10027023e+00,  1.13717990e+00],\n",
              "       [ 7.27205959e-01,  8.59656870e-01],\n",
              "       [ 2.32471398e+00,  2.58156603e+00],\n",
              "       [ 6.80554597e-01,  1.56609617e+00],\n",
              "       [ 1.30363438e+00,  2.74393108e+00],\n",
              "       [ 2.36619995e+00,  1.23955233e+00],\n",
              "       [ 1.63112692e+00,  3.36016400e+00],\n",
              "       [ 2.73530494e+00,  9.01236645e-01],\n",
              "       [ 3.06719395e-01,  1.89124829e+00],\n",
              "       [ 3.06369200e+00,  1.38039566e+00],\n",
              "       [ 1.54511214e+00,  1.65703732e+00],\n",
              "       [ 7.55878804e-01,  5.79954770e-01],\n",
              "       [ 3.28329973e-01,  1.85318242e+00],\n",
              "       [ 1.40958548e+00,  2.12278574e+00],\n",
              "       [ 3.45472376e-01,  2.79910258e+00],\n",
              "       [ 2.39746453e+00,  1.06012050e+00],\n",
              "       [ 1.31695715e+00,  2.69052908e+00],\n",
              "       [ 1.79995869e+00,  2.86949891e+00],\n",
              "       [ 1.75816249e+00,  1.53085151e+00],\n",
              "       [ 8.45249030e-01,  8.22144548e-01],\n",
              "       [ 2.97421589e+00,  1.49655823e+00],\n",
              "       [ 1.04787828e+00,  1.55397679e+00],\n",
              "       [ 3.57218780e+00,  1.91076218e+00],\n",
              "       [ 2.39170855e+00,  1.93293636e+00],\n",
              "       [ 3.23637085e+00,  5.00040132e-01],\n",
              "       [ 3.98129196e+00,  2.65582901e+00],\n",
              "       [ 2.18818397e+00,  9.73025465e-01],\n",
              "       [ 2.37272461e+00,  2.85870156e+00],\n",
              "       [ 3.48123843e+00,  6.07534227e-01],\n",
              "       [ 2.77616110e+00,  9.77966925e-01],\n",
              "       [ 4.52696096e-01,  2.34608780e+00],\n",
              "       [-1.17018744e+00,  3.36636757e+00],\n",
              "       [ 1.58767788e+00,  2.50301078e+00],\n",
              "       [ 2.59657027e+00,  2.04499689e+00],\n",
              "       [ 2.61626601e+00,  3.13843223e+00],\n",
              "       [ 2.08264109e+00,  3.32900051e+00],\n",
              "       [ 1.98468408e+00,  2.29565443e+00],\n",
              "       [ 1.77200687e+00,  2.89053263e+00],\n",
              "       [ 1.18229880e+00,  1.71769714e+00],\n",
              "       [ 2.02257233e+00,  1.20137660e+00],\n",
              "       [ 3.37359154e+00,  5.23834828e+00],\n",
              "       [ 1.76330473e+00,  2.23787844e+00],\n",
              "       [ 1.87863921e+00,  4.99279817e-01],\n",
              "       [ 2.36783144e+00,  1.50399700e+00],\n",
              "       [ 4.10240725e+00,  3.50609192e+00],\n",
              "       [ 2.57190234e+00,  3.38475369e+00],\n",
              "       [ 2.38884607e+00,  1.80409537e+00],\n",
              "       [ 3.21125903e+00,  1.60750188e+00],\n",
              "       [ 1.31915958e+00,  1.78554176e+00],\n",
              "       [ 1.39811054e+00,  1.77404144e+00],\n",
              "       [ 1.87631503e+00,  2.20179032e+00],\n",
              "       [ 2.37592852e+00,  4.31291571e+00],\n",
              "       [ 1.79240649e+00, -2.41062662e-01],\n",
              "       [-1.86041124e-01,  1.89174075e+00],\n",
              "       [ 1.00470003e+00,  2.75007291e+00],\n",
              "       [ 4.02690365e+00,  1.65820952e+00]])"
            ]
          },
          "execution_count": 6,
          "metadata": {},
          "output_type": "execute_result"
        }
      ],
      "source": [
        "X"
      ]
    },
    {
      "cell_type": "code",
      "execution_count": 6,
      "metadata": {
        "id": "SArlV0AFmGf4"
      },
      "outputs": [],
      "source": [
        "fcm = FCM(n_clusters=2)\n",
        "fcm.fit(X)"
      ]
    },
    {
      "cell_type": "code",
      "execution_count": 9,
      "metadata": {
        "colab": {
          "base_uri": "https://localhost:8080/",
          "height": 320
        },
        "id": "H80qJ4TrmGf5",
        "outputId": "0af3173c-710d-47c5-a029-dbb826621606"
      },
      "outputs": [
        {
          "data": {
            "text/plain": [
              "array([1, 1, 1, 1, 1, 1, 1, 1, 1, 1, 0, 0, 0, 0, 0, 0, 0, 0, 0, 0])"
            ]
          },
          "execution_count": 9,
          "metadata": {},
          "output_type": "execute_result"
        }
      ],
      "source": [
        "# outputs\n",
        "fcm_centers = fcm.centers\n",
        "fcm_labels = fcm.predict(X)\n",
        "# fcm_labels\n",
        "\n",
        "# plot result\n",
        "# f, axes = plt.subplots(1, 2, figsize=(11,5))\n",
        "# axes[0].scatter(X[:,0], X[:,1], alpha=.1)\n",
        "# axes[1].scatter(X[:,0], X[:,1], c=fcm_labels, alpha=.1)\n",
        "# axes[1].scatter(fcm_centers[:,0], fcm_centers[:,1], marker=\"+\", s=500, c='w')\n",
        "# plt.show()"
      ]
    },
    {
      "cell_type": "code",
      "execution_count": 9,
      "metadata": {
        "id": "4Yq9DJRGmGf6"
      },
      "outputs": [],
      "source": [
        "from sklearn.cluster import KMeans"
      ]
    },
    {
      "cell_type": "code",
      "execution_count": 10,
      "metadata": {
        "id": "9fctLgacmGf7"
      },
      "outputs": [],
      "source": [
        "kmeans = KMeans(n_clusters= 2)"
      ]
    },
    {
      "cell_type": "code",
      "execution_count": 11,
      "metadata": {
        "id": "Z0yvZB54mGf8"
      },
      "outputs": [],
      "source": [
        "label = kmeans.fit_predict(X)"
      ]
    },
    {
      "cell_type": "code",
      "execution_count": 12,
      "metadata": {
        "colab": {
          "base_uri": "https://localhost:8080/",
          "height": 320
        },
        "id": "jDjQ7csVmGf8",
        "outputId": "04549ae9-fbb4-4906-81de-400c2fd4dccb"
      },
      "outputs": [
        {
          "data": {
            "image/png": "[encoded data removed]",
            "text/plain": [
              "<Figure size 792x360 with 2 Axes>"
            ]
          },
          "metadata": {
            "needs_background": "light"
          },
          "output_type": "display_data"
        }
      ],
      "source": [
        "#filter rows of original data\n",
        "filtered_label0 = X[label == 0]\n",
        "filtered_label1 = X[label == 1]\n",
        "f, axes = plt.subplots(1, 2, figsize=(11,5))\n",
        "#plotting the results\n",
        "axes[0].scatter(X[:,0], X[:,1], alpha=1)\n",
        "plt.scatter(filtered_label0[:,0] , filtered_label0[:,1])\n",
        "plt.scatter(filtered_label1[:,0] , filtered_label1[:,1])\n",
        "plt.show()"
      ]
    },
    {
      "cell_type": "markdown",
      "metadata": {
        "id": "5S5gG0BsHxeO"
      },
      "source": [
        "Task: You need to implement the algorithm with numpy only "
      ]
    },
    {
      "cell_type": "code",
      "execution_count": 12,
      "metadata": {
        "id": "MQEtZCxlGXOZ"
      },
      "outputs": [],
      "source": []
    }
  ],
  "metadata": {
    "colab": {
      "provenance": []
    },
    "kernelspec": {
      "display_name": "Python 3.8.10 64-bit",
      "language": "python",
      "name": "python3"
    },
    "language_info": {
      "codemirror_mode": {
        "name": "ipython",
        "version": 3
      },
      "file_extension": ".py",
      "mimetype": "text/x-python",
      "name": "python",
      "nbconvert_exporter": "python",
      "pygments_lexer": "ipython3",
      "version": "3.8.10"
    },
    "vscode": {
      "interpreter": {
        "hash": "767d51c1340bd893661ea55ea3124f6de3c7a262a8b4abca0554b478b1e2ff90"
      }
    }
  },
  "nbformat": 4,
  "nbformat_minor": 0
}
