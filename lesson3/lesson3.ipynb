{
 "cells": [
  {
   "cell_type": "markdown",
   "metadata": {},
   "source": [
    "# Convolutional neural networks\n",
    "\n",
    "multiclass -> softmax activation function\n",
    "\n",
    "# Bonus task: Чем различается Бинарная кроинтропия и обычная кроссинтропия?\n"
   ]
  },
  {
   "cell_type": "code",
   "execution_count": 1,
   "metadata": {},
   "outputs": [],
   "source": [
    "import numpy as np\n",
    "import matplotlib.pyplot as plt\n",
    "import cv2\n",
    "import pandas as pd\n",
    "import tqdm\n",
    "\n",
    "import torch\n",
    "import torchvision\n",
    "from torchvision import transforms\n",
    "from torchsummary import summary\n",
    "import keras\n",
    "from torch.utils.data import DataLoader,Dataset\n",
    "from PIL import Image"
   ]
  },
  {
   "cell_type": "code",
   "execution_count": 2,
   "metadata": {},
   "outputs": [],
   "source": [
    "from numpy import load"
   ]
  },
  {
   "cell_type": "code",
   "execution_count": 3,
   "metadata": {},
   "outputs": [],
   "source": [
    "import torch.nn as nn\n",
    "import torch.nn.functional as F  # Functional"
   ]
  },
  {
   "cell_type": "code",
   "execution_count": 4,
   "metadata": {},
   "outputs": [
    {
     "data": {
      "text/plain": [
       "True"
      ]
     },
     "execution_count": 4,
     "metadata": {},
     "output_type": "execute_result"
    }
   ],
   "source": [
    "torch.cuda.is_available()\n",
    "\n",
    "# wget https://developer.download.nvidia.com/compute/cuda/repos/wsl-ubuntu/x86_64/cuda-wsl-ubuntu.pin\n",
    "# sudo mv cuda-wsl-ubuntu.pin /etc/apt/preferences.d/cuda-repository-pin-600\n",
    "# wget https://developer.download.nvidia.com/compute/cuda/11.7.0/local_installers/cuda-repo-wsl-ubuntu-11-7-local_11.7.0-1_amd64.deb\n",
    "# sudo dpkg -i cuda-repo-wsl-ubuntu-11-7-local_11.7.0-1_amd64.deb\n",
    "# sudo apt-get update\n",
    "# sudo apt-get -y install cuda"
   ]
  },
  {
   "cell_type": "code",
   "execution_count": 5,
   "metadata": {},
   "outputs": [],
   "source": [
    "import os\n",
    "directory = 'fishes'\n",
    "clases = os.listdir(directory)"
   ]
  },
  {
   "cell_type": "code",
   "execution_count": 6,
   "metadata": {},
   "outputs": [],
   "source": [
    "clases = clases[:3]"
   ]
  },
  {
   "cell_type": "code",
   "execution_count": 7,
   "metadata": {},
   "outputs": [],
   "source": [
    "train_files = []\n",
    "target_files = []\n",
    "for fish_type in clases: \n",
    "    for file in os.listdir(os.path.join(directory, fish_type)):\n",
    "        train_files.append(os.path.join(directory, fish_type, file))\n",
    "        target_files.append(fish_type)"
   ]
  },
  {
   "cell_type": "code",
   "execution_count": 8,
   "metadata": {},
   "outputs": [
    {
     "data": {
      "text/html": [
       "<div>\n",
       "<style scoped>\n",
       "    .dataframe tbody tr th:only-of-type {\n",
       "        vertical-align: middle;\n",
       "    }\n",
       "\n",
       "    .dataframe tbody tr th {\n",
       "        vertical-align: top;\n",
       "    }\n",
       "\n",
       "    .dataframe thead th {\n",
       "        text-align: right;\n",
       "    }\n",
       "</style>\n",
       "<table border=\"1\" class=\"dataframe\">\n",
       "  <thead>\n",
       "    <tr style=\"text-align: right;\">\n",
       "      <th></th>\n",
       "      <th>img</th>\n",
       "      <th>target</th>\n",
       "    </tr>\n",
       "  </thead>\n",
       "  <tbody>\n",
       "    <tr>\n",
       "      <th>0</th>\n",
       "      <td>fishes/Red Mullet/00008.png</td>\n",
       "      <td>Red Mullet</td>\n",
       "    </tr>\n",
       "    <tr>\n",
       "      <th>1</th>\n",
       "      <td>fishes/Red Mullet/00032.png</td>\n",
       "      <td>Red Mullet</td>\n",
       "    </tr>\n",
       "    <tr>\n",
       "      <th>2</th>\n",
       "      <td>fishes/Red Mullet/00027.png</td>\n",
       "      <td>Red Mullet</td>\n",
       "    </tr>\n",
       "    <tr>\n",
       "      <th>3</th>\n",
       "      <td>fishes/Red Mullet/00016.png</td>\n",
       "      <td>Red Mullet</td>\n",
       "    </tr>\n",
       "    <tr>\n",
       "      <th>4</th>\n",
       "      <td>fishes/Red Mullet/00036.png</td>\n",
       "      <td>Red Mullet</td>\n",
       "    </tr>\n",
       "  </tbody>\n",
       "</table>\n",
       "</div>"
      ],
      "text/plain": [
       "                           img      target\n",
       "0  fishes/Red Mullet/00008.png  Red Mullet\n",
       "1  fishes/Red Mullet/00032.png  Red Mullet\n",
       "2  fishes/Red Mullet/00027.png  Red Mullet\n",
       "3  fishes/Red Mullet/00016.png  Red Mullet\n",
       "4  fishes/Red Mullet/00036.png  Red Mullet"
      ]
     },
     "execution_count": 8,
     "metadata": {},
     "output_type": "execute_result"
    }
   ],
   "source": [
    "df = pd.DataFrame({'img' : train_files, 'target' : target_files})\n",
    "df.head()"
   ]
  },
  {
   "cell_type": "code",
   "execution_count": 9,
   "metadata": {},
   "outputs": [
    {
     "name": "stderr",
     "output_type": "stream",
     "text": [
      "100%|██████████| 150/150 [00:02<00:00, 52.26it/s] \n"
     ]
    },
    {
     "data": {
      "text/html": [
       "<div>\n",
       "<style scoped>\n",
       "    .dataframe tbody tr th:only-of-type {\n",
       "        vertical-align: middle;\n",
       "    }\n",
       "\n",
       "    .dataframe tbody tr th {\n",
       "        vertical-align: top;\n",
       "    }\n",
       "\n",
       "    .dataframe thead th {\n",
       "        text-align: right;\n",
       "    }\n",
       "</style>\n",
       "<table border=\"1\" class=\"dataframe\">\n",
       "  <thead>\n",
       "    <tr style=\"text-align: right;\">\n",
       "      <th></th>\n",
       "      <th>img</th>\n",
       "      <th>target</th>\n",
       "    </tr>\n",
       "  </thead>\n",
       "  <tbody>\n",
       "    <tr>\n",
       "      <th>0</th>\n",
       "      <td>[[[125, 101, 64], [125, 99, 73], [125, 103, 67...</td>\n",
       "      <td>Red Mullet</td>\n",
       "    </tr>\n",
       "    <tr>\n",
       "      <th>1</th>\n",
       "      <td>[[[28, 26, 21], [26, 23, 18], [25, 21, 16], [2...</td>\n",
       "      <td>Red Mullet</td>\n",
       "    </tr>\n",
       "    <tr>\n",
       "      <th>2</th>\n",
       "      <td>[[[89, 70, 39], [112, 89, 69], [112, 85, 72], ...</td>\n",
       "      <td>Red Mullet</td>\n",
       "    </tr>\n",
       "    <tr>\n",
       "      <th>3</th>\n",
       "      <td>[[[125, 100, 58], [123, 90, 65], [127, 94, 59]...</td>\n",
       "      <td>Red Mullet</td>\n",
       "    </tr>\n",
       "    <tr>\n",
       "      <th>4</th>\n",
       "      <td>[[[114, 96, 63], [118, 92, 62], [122, 95, 65],...</td>\n",
       "      <td>Red Mullet</td>\n",
       "    </tr>\n",
       "  </tbody>\n",
       "</table>\n",
       "</div>"
      ],
      "text/plain": [
       "                                                 img      target\n",
       "0  [[[125, 101, 64], [125, 99, 73], [125, 103, 67...  Red Mullet\n",
       "1  [[[28, 26, 21], [26, 23, 18], [25, 21, 16], [2...  Red Mullet\n",
       "2  [[[89, 70, 39], [112, 89, 69], [112, 85, 72], ...  Red Mullet\n",
       "3  [[[125, 100, 58], [123, 90, 65], [127, 94, 59]...  Red Mullet\n",
       "4  [[[114, 96, 63], [118, 92, 62], [122, 95, 65],...  Red Mullet"
      ]
     },
     "execution_count": 9,
     "metadata": {},
     "output_type": "execute_result"
    }
   ],
   "source": [
    "img = []\n",
    "for ind in tqdm.tqdm(range(len(df['img']))):\n",
    "    origImage = cv2.imread(df['img'][ind])\n",
    "    origImage = cv2.resize(origImage, (256, 256))\n",
    "    img.append(origImage)\n",
    "df['img'] = img\n",
    "\n",
    "df.head()"
   ]
  },
  {
   "cell_type": "code",
   "execution_count": 10,
   "metadata": {},
   "outputs": [
    {
     "data": {
      "text/plain": [
       "True"
      ]
     },
     "execution_count": 10,
     "metadata": {},
     "output_type": "execute_result"
    }
   ],
   "source": [
    "torch.cuda.is_available()"
   ]
  },
  {
   "cell_type": "code",
   "execution_count": 11,
   "metadata": {},
   "outputs": [],
   "source": [
    "y = []\n",
    "for i in range(len(df['target'])):\n",
    "    for j in range(len(clases)):\n",
    "        if df['target'][i] == clases[j]:\n",
    "            y.append(j)"
   ]
  },
  {
   "cell_type": "code",
   "execution_count": 13,
   "metadata": {},
   "outputs": [
    {
     "data": {
      "text/plain": [
       "[1,\n",
       " 1,\n",
       " 2,\n",
       " 2,\n",
       " 2,\n",
       " 0,\n",
       " 2,\n",
       " 2,\n",
       " 2,\n",
       " 2,\n",
       " 0,\n",
       " 0,\n",
       " 1,\n",
       " 0,\n",
       " 1,\n",
       " 0,\n",
       " 1,\n",
       " 1,\n",
       " 2,\n",
       " 2,\n",
       " 1,\n",
       " 2,\n",
       " 1,\n",
       " 1,\n",
       " 1,\n",
       " 0,\n",
       " 0,\n",
       " 1,\n",
       " 0,\n",
       " 2,\n",
       " 0,\n",
       " 0,\n",
       " 2,\n",
       " 1,\n",
       " 2,\n",
       " 0,\n",
       " 2,\n",
       " 0,\n",
       " 1,\n",
       " 1,\n",
       " 0,\n",
       " 2,\n",
       " 2,\n",
       " 2,\n",
       " 2,\n",
       " 2,\n",
       " 0,\n",
       " 1,\n",
       " 2,\n",
       " 1,\n",
       " 0,\n",
       " 2,\n",
       " 1,\n",
       " 1,\n",
       " 0,\n",
       " 0,\n",
       " 0,\n",
       " 1,\n",
       " 2,\n",
       " 2,\n",
       " 1,\n",
       " 0,\n",
       " 0,\n",
       " 0,\n",
       " 2,\n",
       " 2,\n",
       " 1,\n",
       " 1,\n",
       " 2,\n",
       " 2,\n",
       " 2,\n",
       " 2,\n",
       " 1,\n",
       " 0,\n",
       " 0,\n",
       " 1,\n",
       " 0,\n",
       " 0,\n",
       " 2,\n",
       " 1,\n",
       " 0,\n",
       " 0,\n",
       " 0,\n",
       " 1,\n",
       " 0,\n",
       " 1,\n",
       " 0,\n",
       " 1,\n",
       " 2,\n",
       " 0,\n",
       " 1,\n",
       " 1,\n",
       " 2,\n",
       " 0,\n",
       " 2,\n",
       " 0,\n",
       " 1,\n",
       " 1,\n",
       " 2,\n",
       " 2,\n",
       " 0,\n",
       " 1,\n",
       " 2,\n",
       " 2,\n",
       " 1,\n",
       " 1,\n",
       " 2,\n",
       " 0,\n",
       " 2,\n",
       " 0,\n",
       " 0,\n",
       " 1,\n",
       " 0,\n",
       " 2,\n",
       " 2,\n",
       " 2,\n",
       " 1,\n",
       " 0,\n",
       " 2,\n",
       " 0]"
      ]
     },
     "execution_count": 13,
     "metadata": {},
     "output_type": "execute_result"
    }
   ],
   "source": [
    "from sklearn.model_selection import train_test_split\n",
    "X_train, X_test, y_train, y_test = train_test_split(img, y, test_size=0.2, random_state=10)\n",
    "\n",
    "y_train"
   ]
  },
  {
   "cell_type": "code",
   "execution_count": 526,
   "metadata": {},
   "outputs": [],
   "source": [
    "import torch\n",
    "import torchvision\n",
    "from torchvision import transforms\n",
    "from torchsummary import summary\n",
    "from torch.utils.data import DataLoader,Dataset\n",
    "from PIL import Image\n",
    "\n",
    "import numpy as np\n",
    "import matplotlib.pyplot as plt  \n",
    "class MyDataset(Dataset):\n",
    "    def __init__(self, data, targets,transform=None):\n",
    "        self.data = data\n",
    "        self.targets = torch.LongTensor(targets)\n",
    "        self.transform = transform\n",
    "\n",
    "    def __getitem__(self, index):\n",
    "        x = self.data[index]\n",
    "        y = self.targets[index]\n",
    "        if self.transform:\n",
    "            x = Image.fromarray(self.data[index].astype(np.uint8))\n",
    "            x = self.transform(x)\n",
    "\n",
    "        return x, y\n",
    "\n",
    "    def __len__(self):\n",
    "        return len(self.data)\n",
    "%matplotlib inline\n",
    "transform = transforms.Compose([transforms.ToTensor()])\n",
    "dataset = MyDataset(X_train,y_train, transform=transform)\n",
    "trainloader = DataLoader(dataset, batch_size=4)\n",
    "\n",
    "testset = MyDataset(X_test,y_test, transform=transform)\n",
    "testloader = DataLoader(testset, batch_size=4)"
   ]
  },
  {
   "cell_type": "code",
   "execution_count": 527,
   "metadata": {},
   "outputs": [],
   "source": [
    "class MyConvNet(nn.Module):\n",
    "    def __init__(self):\n",
    "        # вызов конструктора предка\n",
    "        super(MyConvNet, self).__init__()\n",
    "        self.pool = nn.MaxPool2d(kernel_size=2, stride=2)\n",
    "        self.conv1 = nn.Conv2d(in_channels=3, out_channels=6, kernel_size=5)\n",
    "        self.conv2 = nn.Conv2d(in_channels=6, out_channels=16, kernel_size=5)        \n",
    "\n",
    "        self.fc1 = nn.Linear(61 * 61 * 16, 120)\n",
    "        self.fc2 = nn.Linear(120, 84)\n",
    "        self.fc3 = nn.Linear(84, 3)\n",
    "\n",
    "    def forward(self, x):\n",
    "        x = self.pool(F.relu(self.conv1(x)))\n",
    "        x = self.pool(F.relu(self.conv2(x)))\n",
    "\n",
    "        x = x.view(-1, 61 * 61 * 16)\n",
    "        x = F.relu(self.fc1(x))\n",
    "        x = F.relu(self.fc2(x))\n",
    "        x = self.fc3(x)\n",
    "        return x"
   ]
  },
  {
   "cell_type": "code",
   "execution_count": 528,
   "metadata": {},
   "outputs": [
    {
     "name": "stdout",
     "output_type": "stream",
     "text": [
      "torch.Size([4, 3, 256, 256])\n"
     ]
    }
   ],
   "source": [
    "# if torch.cuda.is_available():\n",
    "#   net = MyConvNet().cuda()\n",
    "# else:\n",
    "  # net = MyConvNet() \n",
    "net = MyConvNet()\n",
    "batch = []\n",
    "\n",
    "batch = next(iter(trainloader))\n",
    "print(batch[0].shape)"
   ]
  },
  {
   "cell_type": "code",
   "execution_count": 529,
   "metadata": {},
   "outputs": [],
   "source": [
    "device = torch.device('cuda' if torch.cuda.is_available() else 'cpu')\n",
    "device = 'cpu'"
   ]
  },
  {
   "cell_type": "code",
   "execution_count": 530,
   "metadata": {},
   "outputs": [
    {
     "name": "stdout",
     "output_type": "stream",
     "text": [
      "epoch  0  train_loss  1.0927065451939901  test_loss  1.0708321928977966\n",
      "epoch  1  train_loss  0.9963608503341674  test_loss  0.9579183533787727\n",
      "epoch  2  train_loss  0.7751718501249949  test_loss  0.7341331616044044\n",
      "epoch  3  train_loss  0.5418528378009796  test_loss  0.6124518774449825\n",
      "epoch  4  train_loss  0.38128572230537733  test_loss  0.5189071670174599\n",
      "epoch  5  train_loss  0.279768297324578  test_loss  0.4591177701950073\n",
      "epoch  6  train_loss  0.20903512816876174  test_loss  0.4074780335649848\n",
      "epoch  7  train_loss  0.16072831843048335  test_loss  0.3739199675619602\n",
      "epoch  8  train_loss  0.12935570273548364  test_loss  0.36200365936383605\n",
      "epoch  9  train_loss  0.10977737045225998  test_loss  0.36554632778279483\n",
      "epoch  10  train_loss  0.10074968993042906  test_loss  0.3827554553281516\n",
      "epoch  11  train_loss  0.10035035526379943  test_loss  0.42208297713659704\n",
      "epoch  12  train_loss  0.10586883262731135  test_loss  0.47380182170309126\n"
     ]
    }
   ],
   "source": [
    "\n",
    "loss_fn = torch.nn.CrossEntropyLoss()\n",
    "\n",
    "learning_rate = 1e-4\n",
    "optimizer = torch.optim.Adam(net.parameters(), lr=learning_rate)\n",
    "train_losses = []\n",
    "test_losses = []\n",
    "running_loss = 0\n",
    "# итерируемся\n",
    "for epoch in (range(13)):\n",
    "    train_loss = []\n",
    "    test_loss = []\n",
    "    for i, batch in enumerate(trainloader):\n",
    "        X_batch, y_batch = batch\n",
    "        X_batch = X_batch.to(device=device, dtype=torch.float32)\n",
    "        y_batch = y_batch.to(device = device, dtype = torch.long)\n",
    "        optimizer.zero_grad()\n",
    "        y_pred = net(X_batch)\n",
    "        loss = loss_fn(y_pred, y_batch)\n",
    "        loss.backward()\n",
    "        optimizer.step()\n",
    "        train_loss.append(loss.item())\n",
    "        net.train(False)\n",
    "\n",
    "    with torch.no_grad():\n",
    "        for i, batch in enumerate(testloader):\n",
    "            X_test_batch, y_pred_batch = batch\n",
    "            X_test_batch = X_test_batch.to(device=device, dtype=torch.float32)\n",
    "            y_pred_batch = y_pred_batch.to(device = device, dtype = torch.long)\n",
    "            y_test_pred = net(X_test_batch)\n",
    "            test_l = loss_fn(y_test_pred, y_pred_batch)\n",
    "            test_loss.append(test_l.item())\n",
    "    train_losses.append(np.mean(train_loss))\n",
    "    test_losses.append(np.mean(test_loss))\n",
    "    print('epoch ',epoch, ' train_loss ',np.mean(np.mean(train_loss)), ' test_loss ',np.mean(test_loss))\n"
   ]
  },
  {
   "cell_type": "code",
   "execution_count": 531,
   "metadata": {},
   "outputs": [
    {
     "data": {
      "image/png": "[encoded data removed]",
      "text/plain": [
       "<Figure size 720x504 with 1 Axes>"
      ]
     },
     "metadata": {
      "needs_background": "light"
     },
     "output_type": "display_data"
    }
   ],
   "source": [
    "plt.figure(figsize=(10,7))\n",
    "plt.plot(range(len(train_losses)), train_losses, label='train')\n",
    "plt.plot(range(len(test_losses)), test_losses, label='test')\n",
    "plt.legend()\n",
    "plt.show()"
   ]
  },
  {
   "cell_type": "code",
   "execution_count": 532,
   "metadata": {},
   "outputs": [],
   "source": [
    "y_pred = []\n",
    "#Test your model on X_test data and show confusion_matrix and classification_report\n",
    "\n",
    "with torch.no_grad():\n",
    "    for i, batch in enumerate(testloader):\n",
    "        X_test_batch, y_pred_batch = batch\n",
    "        X_test_batch = X_test_batch.to(device=device, dtype=torch.float32)\n",
    "        y_test_pred = net(X_test_batch)\n",
    "        y_pred.extend(y_test_pred.argmax(dim=1).cpu().numpy())"
   ]
  },
  {
   "cell_type": "code",
   "execution_count": 533,
   "metadata": {},
   "outputs": [
    {
     "name": "stdout",
     "output_type": "stream",
     "text": [
      "[[10  0  0]\n",
      " [ 0 13  0]\n",
      " [ 4  0  3]]\n",
      "              precision    recall  f1-score   support\n",
      "\n",
      "           0       0.71      1.00      0.83        10\n",
      "           1       1.00      1.00      1.00        13\n",
      "           2       1.00      0.43      0.60         7\n",
      "\n",
      "    accuracy                           0.87        30\n",
      "   macro avg       0.90      0.81      0.81        30\n",
      "weighted avg       0.90      0.87      0.85        30\n",
      "\n"
     ]
    }
   ],
   "source": [
    "from sklearn.metrics import confusion_matrix\n",
    "print(confusion_matrix(y_test, y_pred))\n",
    "from sklearn.metrics import classification_report\n",
    "print(classification_report(y_test, y_pred))"
   ]
  }
 ],
 "metadata": {
  "kernelspec": {
   "display_name": "Python 3.8.10 64-bit",
   "language": "python",
   "name": "python3"
  },
  "language_info": {
   "codemirror_mode": {
    "name": "ipython",
    "version": 3
   },
   "file_extension": ".py",
   "mimetype": "text/x-python",
   "name": "python",
   "nbconvert_exporter": "python",
   "pygments_lexer": "ipython3",
   "version": "3.8.10"
  },
  "orig_nbformat": 4,
  "vscode": {
   "interpreter": {
    "hash": "767d51c1340bd893661ea55ea3124f6de3c7a262a8b4abca0554b478b1e2ff90"
   }
  }
 },
 "nbformat": 4,
 "nbformat_minor": 2
}
