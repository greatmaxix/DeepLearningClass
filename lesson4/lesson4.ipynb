{
 "cells": [
  {
   "cell_type": "code",
   "execution_count": 1,
   "metadata": {},
   "outputs": [],
   "source": [
    "# Hw 4 divide dataset to train and test, calculate accuracy and dice metric\n",
    "# https://colab.research.google.com/drive/10tJsi4ZFPAulJBCZNuasNhRhiLFTPZKn#scrollTo=B5Q_fNQPHU3Q"
   ]
  },
  {
   "cell_type": "code",
   "execution_count": 2,
   "metadata": {},
   "outputs": [],
   "source": [
    "import numpy as np\n",
    "import matplotlib.pyplot as plt\n",
    "import cv2\n",
    "import pandas as pd"
   ]
  },
  {
   "cell_type": "code",
   "execution_count": 3,
   "metadata": {},
   "outputs": [],
   "source": [
    "import os\n",
    "directory = '../lesson3/fishes'\n",
    "train_files = []\n",
    "target_files = []\n",
    "fish_types = 'Black Sea Sprat'\n",
    "for file in os.listdir(os.path.join(directory, fish_types)):\n",
    "    train_files.append(os.path.join(directory, 'Black Sea Sprat', file))\n",
    "    target_files.append(os.path.join(directory,  'Black Sea Sprat GT', file))"
   ]
  },
  {
   "cell_type": "code",
   "execution_count": 4,
   "metadata": {},
   "outputs": [
    {
     "data": {
      "text/html": [
       "<div>\n",
       "<style scoped>\n",
       "    .dataframe tbody tr th:only-of-type {\n",
       "        vertical-align: middle;\n",
       "    }\n",
       "\n",
       "    .dataframe tbody tr th {\n",
       "        vertical-align: top;\n",
       "    }\n",
       "\n",
       "    .dataframe thead th {\n",
       "        text-align: right;\n",
       "    }\n",
       "</style>\n",
       "<table border=\"1\" class=\"dataframe\">\n",
       "  <thead>\n",
       "    <tr style=\"text-align: right;\">\n",
       "      <th></th>\n",
       "      <th>img</th>\n",
       "      <th>mask</th>\n",
       "    </tr>\n",
       "  </thead>\n",
       "  <tbody>\n",
       "    <tr>\n",
       "      <th>0</th>\n",
       "      <td>../lesson3/fishes/Black Sea Sprat/00008.png</td>\n",
       "      <td>../lesson3/fishes/Black Sea Sprat GT/00008.png</td>\n",
       "    </tr>\n",
       "    <tr>\n",
       "      <th>1</th>\n",
       "      <td>../lesson3/fishes/Black Sea Sprat/00032.png</td>\n",
       "      <td>../lesson3/fishes/Black Sea Sprat GT/00032.png</td>\n",
       "    </tr>\n",
       "    <tr>\n",
       "      <th>2</th>\n",
       "      <td>../lesson3/fishes/Black Sea Sprat/00027.png</td>\n",
       "      <td>../lesson3/fishes/Black Sea Sprat GT/00027.png</td>\n",
       "    </tr>\n",
       "    <tr>\n",
       "      <th>3</th>\n",
       "      <td>../lesson3/fishes/Black Sea Sprat/00016.png</td>\n",
       "      <td>../lesson3/fishes/Black Sea Sprat GT/00016.png</td>\n",
       "    </tr>\n",
       "    <tr>\n",
       "      <th>4</th>\n",
       "      <td>../lesson3/fishes/Black Sea Sprat/00036.png</td>\n",
       "      <td>../lesson3/fishes/Black Sea Sprat GT/00036.png</td>\n",
       "    </tr>\n",
       "  </tbody>\n",
       "</table>\n",
       "</div>"
      ],
      "text/plain": [
       "                                           img  \\\n",
       "0  ../lesson3/fishes/Black Sea Sprat/00008.png   \n",
       "1  ../lesson3/fishes/Black Sea Sprat/00032.png   \n",
       "2  ../lesson3/fishes/Black Sea Sprat/00027.png   \n",
       "3  ../lesson3/fishes/Black Sea Sprat/00016.png   \n",
       "4  ../lesson3/fishes/Black Sea Sprat/00036.png   \n",
       "\n",
       "                                             mask  \n",
       "0  ../lesson3/fishes/Black Sea Sprat GT/00008.png  \n",
       "1  ../lesson3/fishes/Black Sea Sprat GT/00032.png  \n",
       "2  ../lesson3/fishes/Black Sea Sprat GT/00027.png  \n",
       "3  ../lesson3/fishes/Black Sea Sprat GT/00016.png  \n",
       "4  ../lesson3/fishes/Black Sea Sprat GT/00036.png  "
      ]
     },
     "execution_count": 4,
     "metadata": {},
     "output_type": "execute_result"
    }
   ],
   "source": [
    "df = pd.DataFrame({'img' : train_files, 'mask' : target_files})\n",
    "df.head()"
   ]
  },
  {
   "cell_type": "code",
   "execution_count": 5,
   "metadata": {},
   "outputs": [
    {
     "data": {
      "text/plain": [
       "'../lesson3/fishes/Black Sea Sprat/00008.png'"
      ]
     },
     "execution_count": 5,
     "metadata": {},
     "output_type": "execute_result"
    }
   ],
   "source": [
    "df1 = pd.DataFrame()\n",
    "\n",
    "from tqdm import tqdm\n",
    "\n",
    "(df['img'][0])"
   ]
  },
  {
   "cell_type": "code",
   "execution_count": 6,
   "metadata": {},
   "outputs": [
    {
     "name": "stderr",
     "output_type": "stream",
     "text": [
      "100%|██████████| 50/50 [00:00<00:00, 89.65it/s]\n"
     ]
    }
   ],
   "source": [
    "img = []\n",
    "for ind in tqdm(range(len(df['img']))):\n",
    "    origImage = cv2.imread(df['img'][ind])\n",
    "    #origImage = cv2.cvtColor(origImage, cv2.COLOR_BGR2GRAY, )\n",
    "    img.append(origImage)\n",
    "df1['img'] = img"
   ]
  },
  {
   "cell_type": "code",
   "execution_count": 7,
   "metadata": {},
   "outputs": [
    {
     "data": {
      "text/plain": [
       "'../lesson3/fishes/Black Sea Sprat GT/00008.png'"
      ]
     },
     "execution_count": 7,
     "metadata": {},
     "output_type": "execute_result"
    }
   ],
   "source": [
    "(df['mask'][0])"
   ]
  },
  {
   "cell_type": "code",
   "execution_count": 8,
   "metadata": {},
   "outputs": [
    {
     "name": "stderr",
     "output_type": "stream",
     "text": [
      "100%|██████████| 50/50 [00:00<00:00, 714.82it/s]\n"
     ]
    }
   ],
   "source": [
    "mask = []\n",
    "for ind in tqdm(range(len(df['mask']))):\n",
    "    origImage = cv2.imread(df['mask'][ind])\n",
    "    #print(origImage)\n",
    "    origImage = cv2.cvtColor(origImage, cv2.COLOR_BGR2GRAY)\n",
    "    origImage = (origImage ) \n",
    "    mask.append(origImage**2)\n",
    "df1['mask'] = mask"
   ]
  },
  {
   "cell_type": "code",
   "execution_count": 9,
   "metadata": {},
   "outputs": [],
   "source": [
    "def keras_generator(gen_df, batch_size):\n",
    "    while True:\n",
    "        x_batch = []\n",
    "        y_batch = []\n",
    "        \n",
    "        for i in range(batch_size):\n",
    "            img, mask = gen_df.sample(1).values[0]\n",
    "            \n",
    "            img = cv2.resize(img, (256, 256))\n",
    "            mask = cv2.resize(mask, (256, 256))\n",
    "            mask =( mask > 0) **2\n",
    "            \n",
    "            x_batch += [img]\n",
    "            y_batch += [mask]\n",
    "\n",
    "        x_batch = np.array(x_batch) / 255.\n",
    "        y_batch = np.array(y_batch)\n",
    "\n",
    "        yield x_batch, np.expand_dims(y_batch, -1)"
   ]
  },
  {
   "cell_type": "code",
   "execution_count": 10,
   "metadata": {},
   "outputs": [
    {
     "data": {
      "text/plain": [
       "(16, 256, 256, 3)"
      ]
     },
     "execution_count": 10,
     "metadata": {},
     "output_type": "execute_result"
    }
   ],
   "source": [
    "for x, y in keras_generator(df1, 16):\n",
    "    break\n",
    "\n",
    "x.shape"
   ]
  },
  {
   "cell_type": "code",
   "execution_count": 11,
   "metadata": {},
   "outputs": [
    {
     "name": "stderr",
     "output_type": "stream",
     "text": [
      "2022-10-12 11:35:07.317198: I tensorflow/stream_executor/cuda/cuda_gpu_executor.cc:922] could not open file to read NUMA node: /sys/bus/pci/devices/0000:01:00.0/numa_node\n",
      "Your kernel may have been built without NUMA support.\n",
      "2022-10-12 11:35:07.400319: W tensorflow/stream_executor/platform/default/dso_loader.cc:64] Could not load dynamic library 'libcudnn.so.8'; dlerror: libcudnn.so.8: cannot open shared object file: No such file or directory; LD_LIBRARY_PATH: /home/maksat/.local/lib/python3.8/site-packages/cv2/../../lib64:\n",
      "2022-10-12 11:35:07.400337: W tensorflow/core/common_runtime/gpu/gpu_device.cc:1850] Cannot dlopen some GPU libraries. Please make sure the missing libraries mentioned above are installed properly if you would like to use GPU. Follow the guide at https://www.tensorflow.org/install/gpu for how to download and setup the required libraries for your platform.\n",
      "Skipping registering GPU devices...\n",
      "2022-10-12 11:35:07.401523: I tensorflow/core/platform/cpu_feature_guard.cc:151] This TensorFlow binary is optimized with oneAPI Deep Neural Network Library (oneDNN) to use the following CPU instructions in performance-critical operations:  AVX2 FMA\n",
      "To enable them in other operations, rebuild TensorFlow with the appropriate compiler flags.\n"
     ]
    }
   ],
   "source": [
    "import keras\n",
    "from keras.applications.vgg16 import VGG16\n",
    "from keras.models import Model\n",
    "from keras.layers import Dense, GlobalAveragePooling2D, Dropout, UpSampling2D, Conv2D, MaxPooling2D, Activation\n",
    "from keras.layers import Input, Dense\n",
    "\n",
    "inp = Input(shape=(256, 256, 3))\n",
    "\n",
    "conv_1_1 = Conv2D(32, (3, 3), padding='same')(inp)\n",
    "conv_1_1 = Activation('relu')(conv_1_1)\n",
    "\n",
    "conv_1_2 = Conv2D(32, (3, 3), padding='same')(conv_1_1)\n",
    "conv_1_2 = Activation('relu')(conv_1_2)\n",
    "\n",
    "pool_1 = MaxPooling2D(2)(conv_1_2)\n",
    "\n",
    "\n",
    "conv_2_1 = Conv2D(64, (3, 3), padding='same')(pool_1)\n",
    "conv_2_1 = Activation('relu')(conv_2_1)\n",
    "\n",
    "conv_2_2 = Conv2D(64, (3, 3), padding='same')(conv_2_1)\n",
    "conv_2_2 = Activation('relu')(conv_2_2)\n",
    "\n",
    "pool_2 = MaxPooling2D(2)(conv_2_2)\n",
    "\n",
    "\n",
    "conv_3_1 = Conv2D(128, (3, 3), padding='same')(pool_2)\n",
    "conv_3_1 = Activation('relu')(conv_3_1)\n",
    "\n",
    "conv_3_2 = Conv2D(128, (3, 3), padding='same')(conv_3_1)\n",
    "conv_3_2 = Activation('relu')(conv_3_2)\n",
    "\n",
    "pool_3 = MaxPooling2D(2)(conv_3_2)\n",
    "\n",
    "\n",
    "conv_4_1 = Conv2D(256, (3, 3), padding='same')(pool_3)\n",
    "conv_4_1 = Activation('relu')(conv_4_1)\n",
    "\n",
    "conv_4_2 = Conv2D(256, (3, 3), padding='same')(conv_4_1)\n",
    "conv_4_2 = Activation('relu')(conv_4_2)\n",
    "\n",
    "pool_4 = MaxPooling2D(2)(conv_4_2)\n",
    "\n",
    "up_1 = UpSampling2D(2, interpolation='bilinear')(pool_4)\n",
    "conv_up_1_1 = Conv2D(256, (3, 3), padding='same')(up_1)\n",
    "conv_up_1_1 = Activation('relu')(conv_up_1_1)\n",
    "\n",
    "conv_up_1_2 = Conv2D(256, (3, 3), padding='same')(conv_up_1_1)\n",
    "conv_up_1_2 = Activation('relu')(conv_up_1_2)\n",
    "\n",
    "\n",
    "up_2 = UpSampling2D(2, interpolation='bilinear')(conv_up_1_2)\n",
    "conv_up_2_1 = Conv2D(128, (3, 3), padding='same')(up_2)\n",
    "conv_up_2_1 = Activation('relu')(conv_up_2_1)\n",
    "\n",
    "conv_up_2_2 = Conv2D(128, (3, 3), padding='same')(conv_up_2_1)\n",
    "conv_up_2_2 = Activation('relu')(conv_up_2_2)\n",
    "\n",
    "\n",
    "up_3 = UpSampling2D(2, interpolation='bilinear')(conv_up_2_2)\n",
    "conv_up_3_1 = Conv2D(64, (3, 3), padding='same')(up_3)\n",
    "conv_up_3_1 = Activation('relu')(conv_up_3_1)\n",
    "\n",
    "conv_up_3_2 = Conv2D(64, (3, 3), padding='same')(conv_up_3_1)\n",
    "conv_up_3_2 = Activation('relu')(conv_up_3_2)\n",
    "\n",
    "\n",
    "\n",
    "up_4 = UpSampling2D(2, interpolation='bilinear')(conv_up_3_2)\n",
    "conv_up_4_1 = Conv2D(32, (3, 3), padding='same')(up_4)\n",
    "conv_up_4_1 = Activation('relu')(conv_up_4_1)\n",
    "\n",
    "conv_up_4_2 = Conv2D(1, (3, 3), padding='same')(conv_up_4_1)\n",
    "result = Activation('sigmoid')(conv_up_4_2)\n",
    "\n",
    "\n",
    "model = Model(inputs=inp, outputs=result)"
   ]
  },
  {
   "cell_type": "code",
   "execution_count": 14,
   "metadata": {},
   "outputs": [],
   "source": [
    "from tensorflow import keras"
   ]
  },
  {
   "cell_type": "code",
   "execution_count": 15,
   "metadata": {},
   "outputs": [
    {
     "name": "stdout",
     "output_type": "stream",
     "text": [
      "WARNING:tensorflow:`period` argument is deprecated. Please use `save_freq` to specify the frequency in number of batches seen.\n",
      "WARNING:tensorflow:`period` argument is deprecated. Please use `save_freq` to specify the frequency in number of batches seen.\n"
     ]
    },
    {
     "name": "stderr",
     "output_type": "stream",
     "text": [
      "/home/maksat/.local/lib/python3.8/site-packages/keras/optimizer_v2/adam.py:105: UserWarning: The `lr` argument is deprecated, use `learning_rate` instead.\n",
      "  super(Adam, self).__init__(name, **kwargs)\n"
     ]
    }
   ],
   "source": [
    "best_w = keras.callbacks.ModelCheckpoint('fcn_best.h5',\n",
    "                                monitor='val_loss',\n",
    "                                verbose=0,\n",
    "                                save_best_only=True,\n",
    "                                save_weights_only=True,\n",
    "                                mode='auto',\n",
    "                                period=1)\n",
    "\n",
    "last_w = keras.callbacks.ModelCheckpoint('fcn_last.h5',\n",
    "                                monitor='val_loss',\n",
    "                                verbose=0,\n",
    "                                save_best_only=False,\n",
    "                                save_weights_only=True,\n",
    "                                mode='auto',\n",
    "                                period=1)\n",
    "\n",
    "\n",
    "callbacks = [best_w, last_w]\n",
    "\n",
    "\n",
    "\n",
    "adam = keras.optimizers.Adam(lr=0.0001, beta_1=0.9, beta_2=0.999, epsilon=1e-08, decay=0.0)\n",
    "\n",
    "\n",
    "model.compile(adam, 'binary_crossentropy')"
   ]
  },
  {
   "cell_type": "code",
   "execution_count": 16,
   "metadata": {},
   "outputs": [],
   "source": [
    "df_train = df1"
   ]
  },
  {
   "cell_type": "code",
   "execution_count": 17,
   "metadata": {},
   "outputs": [
    {
     "data": {
      "text/plain": [
       "40.0"
      ]
     },
     "execution_count": 17,
     "metadata": {},
     "output_type": "execute_result"
    }
   ],
   "source": [
    "df1.shape[0]/100*80"
   ]
  },
  {
   "cell_type": "code",
   "execution_count": 18,
   "metadata": {},
   "outputs": [],
   "source": [
    "df_val = df1"
   ]
  },
  {
   "cell_type": "code",
   "execution_count": 19,
   "metadata": {},
   "outputs": [
    {
     "name": "stdout",
     "output_type": "stream",
     "text": [
      "Epoch 1/5\n",
      "  3/100 [..............................] - ETA: 9:18 - loss: 0.6894"
     ]
    }
   ],
   "source": [
    "batch_size = 16\n",
    "model.fit(keras_generator(df_train, batch_size),\n",
    "              steps_per_epoch=100,\n",
    "              epochs=5,\n",
    "              verbose=1,\n",
    "              callbacks=callbacks,\n",
    "              validation_data=keras_generator(df_val, batch_size),\n",
    "              validation_steps=50,\n",
    "              class_weight=None,\n",
    "              max_queue_size=10,\n",
    "              workers=1,\n",
    "              use_multiprocessing=False,\n",
    "              shuffle=True,\n",
    "              initial_epoch=0)"
   ]
  },
  {
   "cell_type": "code",
   "execution_count": null,
   "metadata": {},
   "outputs": [],
   "source": [
    "pred = model.predict(x)#.shape"
   ]
  },
  {
   "cell_type": "code",
   "execution_count": null,
   "metadata": {},
   "outputs": [],
   "source": [
    "im_id = 0\n",
    "fig, axes = plt.subplots(nrows=1, ncols=3, figsize=(15, 15))\n",
    "axes[0].imshow(x[im_id])\n",
    "axes[1].imshow(pred[im_id, ..., 0] > 0.5)\n",
    "axes[2].imshow(y[im_id, ..., 0])\n",
    "plt.show()"
   ]
  }
 ],
 "metadata": {
  "kernelspec": {
   "display_name": "Python 3.8.10 64-bit",
   "language": "python",
   "name": "python3"
  },
  "language_info": {
   "codemirror_mode": {
    "name": "ipython",
    "version": 3
   },
   "file_extension": ".py",
   "mimetype": "text/x-python",
   "name": "python",
   "nbconvert_exporter": "python",
   "pygments_lexer": "ipython3",
   "version": "3.8.10"
  },
  "orig_nbformat": 4,
  "vscode": {
   "interpreter": {
    "hash": "767d51c1340bd893661ea55ea3124f6de3c7a262a8b4abca0554b478b1e2ff90"
   }
  }
 },
 "nbformat": 4,
 "nbformat_minor": 2
}
